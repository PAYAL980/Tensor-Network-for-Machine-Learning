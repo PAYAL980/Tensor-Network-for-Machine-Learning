{
  "nbformat": 4,
  "nbformat_minor": 0,
  "metadata": {
    "colab": {
      "provenance": [],
      "collapsed_sections": [
        "D1zrFk98oE6B"
      ],
      "authorship_tag": "ABX9TyNBGe1uUg3ziNeFL53d6D/M",
      "include_colab_link": true
    },
    "kernelspec": {
      "name": "python3",
      "display_name": "Python 3"
    },
    "language_info": {
      "name": "python"
    }
  },
  "cells": [
    {
      "cell_type": "markdown",
      "metadata": {
        "id": "view-in-github",
        "colab_type": "text"
      },
      "source": [
        "<a href=\"https://colab.research.google.com/github/PAYAL980/Tensor-Network-for-Machine-Learning/blob/main/Explanatory.ipynb\" target=\"_parent\"><img src=\"https://colab.research.google.com/assets/colab-badge.svg\" alt=\"Open In Colab\"/></a>"
      ]
    },
    {
      "cell_type": "code",
      "execution_count": 2,
      "metadata": {
        "colab": {
          "base_uri": "https://localhost:8080/"
        },
        "id": "kxjf02VEnIUM",
        "outputId": "472a9ade-e4ac-4ed8-d648-f3a4ca7074cf"
      },
      "outputs": [
        {
          "output_type": "stream",
          "name": "stdout",
          "text": [
            "Collecting tensornetwork\n",
            "  Downloading tensornetwork-0.4.6-py3-none-any.whl (364 kB)\n",
            "\u001b[?25l     \u001b[90m━━━━━━━━━━━━━━━━━━━━━━━━━━━━━━━━━━━━━━━━\u001b[0m \u001b[32m0.0/364.3 kB\u001b[0m \u001b[31m?\u001b[0m eta \u001b[36m-:--:--\u001b[0m\r\u001b[2K     \u001b[90m━━━━━━━━━━━━━━━━━━━━━━━━━━━━━━━━━━━━━━\u001b[0m \u001b[32m364.3/364.3 kB\u001b[0m \u001b[31m22.9 MB/s\u001b[0m eta \u001b[36m0:00:00\u001b[0m\n",
            "\u001b[?25hRequirement already satisfied: numpy>=1.17 in /usr/local/lib/python3.10/dist-packages (from tensornetwork) (1.22.4)\n",
            "Requirement already satisfied: graphviz>=0.11.1 in /usr/local/lib/python3.10/dist-packages (from tensornetwork) (0.20.1)\n",
            "Requirement already satisfied: opt-einsum>=2.3.0 in /usr/local/lib/python3.10/dist-packages (from tensornetwork) (3.3.0)\n",
            "Requirement already satisfied: h5py>=2.9.0 in /usr/local/lib/python3.10/dist-packages (from tensornetwork) (3.8.0)\n",
            "Requirement already satisfied: scipy>=1.1 in /usr/local/lib/python3.10/dist-packages (from tensornetwork) (1.10.1)\n",
            "Installing collected packages: tensornetwork\n",
            "Successfully installed tensornetwork-0.4.6\n"
          ]
        }
      ],
      "source": [
        "!pip install tensornetwork"
      ]
    },
    {
      "cell_type": "code",
      "source": [
        "# Importing libraries\n",
        "\n",
        "import numpy as np\n",
        "import matplotlib.pyplot as plt\n",
        "import tensorflow as tf\n",
        "\n",
        "# Import tensornetwork\n",
        "import tensornetwork as tn\n",
        "# Set the backend to tesorflow\n",
        "# (default is numpy)\n",
        "tn.set_default_backend(\"tensorflow\")\n",
        "import time"
      ],
      "metadata": {
        "id": "ngf4dsApnNEJ"
      },
      "execution_count": 3,
      "outputs": []
    },
    {
      "cell_type": "markdown",
      "source": [
        "## A small example"
      ],
      "metadata": {
        "id": "K0W5tDmIoLD6"
      }
    },
    {
      "cell_type": "code",
      "source": [
        "# Initializing the tensors for the variational MPS and exemplary input tensors\n",
        "\n",
        "L = 15            # number of pixels\n",
        "weights = []\n",
        "\n",
        "\n",
        "    # first tensor has only two indices\n",
        "weights.append(tf.Variable(np.float32(np.eye(2,2)+np.random.normal(0,1e-2,size=(2, 2))), trainable=True))\n",
        "\n",
        "    # all middle tensors have 3 indices\n",
        "for i in range(L-2):\n",
        "  weights.append(tf.Variable(np.float32([np.eye(2,2) for iz in range(2)]+np.random.normal(0,1e-2,size=(2,2,2))), trainable=True))\n",
        "\n",
        "    # last tensor will have output, so it will hold 3 indices\n",
        "weights.append(tf.Variable(np.float32([np.eye(2,10) for iz in range(2)]+np.random.normal(0,1e-2,size=(2, 2, 10))), trainable=True))\n",
        "\n",
        "# examplary input\n",
        "input_feature_map = []\n",
        "\n",
        "for i in range(L):\n",
        "  input_feature_map.append(tf.Variable(tf.random.uniform(shape=(2,), minval=0, maxval=1)))"
      ],
      "metadata": {
        "id": "BePiZoJ8oOBr"
      },
      "execution_count": 4,
      "outputs": []
    },
    {
      "cell_type": "code",
      "source": [
        "input_tensors = []\n",
        "mps = []\n",
        "cntrct = []\n",
        "\n",
        "# creating data tensor and mps nodes and connecting to each other\n",
        "for iz in range(L):\n",
        "  input_tensors.append(tn.Node(input_feature_map[iz], name = f'I{iz}'))\n",
        "  mps.append(tn.Node(weights[iz], name=f'M{iz}'))\n",
        "\n",
        "  input_tensors[iz][0]^mps[iz][0]\n",
        "\n",
        "\n",
        "tn.to_graphviz(mps)"
      ],
      "metadata": {
        "colab": {
          "base_uri": "https://localhost:8080/",
          "height": 1000
        },
        "id": "fZDYHAZ9qpf-",
        "outputId": "e08380e0-b4e7-4b0d-eca8-c68aaed232c4"
      },
      "execution_count": 5,
      "outputs": [
        {
          "output_type": "execute_result",
          "data": {
            "image/svg+xml": "<?xml version=\"1.0\" encoding=\"UTF-8\" standalone=\"no\"?>\n<!DOCTYPE svg PUBLIC \"-//W3C//DTD SVG 1.1//EN\"\n \"http://www.w3.org/Graphics/SVG/1.1/DTD/svg11.dtd\">\n<!-- Generated by graphviz version 2.43.0 (0)\n -->\n<!-- Title: G Pages: 1 -->\n<svg width=\"1017pt\" height=\"889pt\"\n viewBox=\"0.00 0.00 1017.46 888.70\" xmlns=\"http://www.w3.org/2000/svg\" xmlns:xlink=\"http://www.w3.org/1999/xlink\">\n<g id=\"graph0\" class=\"graph\" transform=\"scale(1 1) rotate(0) translate(4 884.7)\">\n<title>G</title>\n<polygon fill=\"white\" stroke=\"transparent\" points=\"-4,4 -4,-884.7 1013.46,-884.7 1013.46,4 -4,4\"/>\n<!-- 140152307304144 -->\n<g id=\"node1\" class=\"node\">\n<title>140152307304144</title>\n<ellipse fill=\"none\" stroke=\"black\" cx=\"119.96\" cy=\"-776.21\" rx=\"27\" ry=\"18\"/>\n<text text-anchor=\"middle\" x=\"119.96\" y=\"-772.51\" font-family=\"Times,serif\" font-size=\"14.00\">M0</text>\n</g>\n<!-- 140149721131728 -->\n<g id=\"node2\" class=\"node\">\n<title>140149721131728</title>\n<ellipse fill=\"none\" stroke=\"black\" cx=\"350.88\" cy=\"-319.71\" rx=\"27\" ry=\"18\"/>\n<text text-anchor=\"middle\" x=\"350.88\" y=\"-316.01\" font-family=\"Times,serif\" font-size=\"14.00\">M1</text>\n</g>\n<!-- 140149716909696 -->\n<g id=\"node3\" class=\"node\">\n<title>140149716909696</title>\n<ellipse fill=\"none\" stroke=\"black\" cx=\"534.88\" cy=\"-480.71\" rx=\"27\" ry=\"18\"/>\n<text text-anchor=\"middle\" x=\"534.88\" y=\"-477.01\" font-family=\"Times,serif\" font-size=\"14.00\">M2</text>\n</g>\n<!-- 140149716909408 -->\n<g id=\"node4\" class=\"node\">\n<title>140149716909408</title>\n<ellipse fill=\"none\" stroke=\"black\" cx=\"626.88\" cy=\"-250.71\" rx=\"27\" ry=\"18\"/>\n<text text-anchor=\"middle\" x=\"626.88\" y=\"-247.01\" font-family=\"Times,serif\" font-size=\"14.00\">M3</text>\n</g>\n<!-- 140149716904992 -->\n<g id=\"node5\" class=\"node\">\n<title>140149716904992</title>\n<ellipse fill=\"none\" stroke=\"black\" cx=\"396.88\" cy=\"-595.71\" rx=\"27\" ry=\"18\"/>\n<text text-anchor=\"middle\" x=\"396.88\" y=\"-592.01\" font-family=\"Times,serif\" font-size=\"14.00\">M4</text>\n</g>\n<!-- 140149716907056 -->\n<g id=\"node6\" class=\"node\">\n<title>140149716907056</title>\n<ellipse fill=\"none\" stroke=\"black\" cx=\"695.88\" cy=\"-641.71\" rx=\"27\" ry=\"18\"/>\n<text text-anchor=\"middle\" x=\"695.88\" y=\"-638.01\" font-family=\"Times,serif\" font-size=\"14.00\">M5</text>\n</g>\n<!-- 140149716907440 -->\n<g id=\"node7\" class=\"node\">\n<title>140149716907440</title>\n<ellipse fill=\"none\" stroke=\"black\" cx=\"212.88\" cy=\"-434.71\" rx=\"27\" ry=\"18\"/>\n<text text-anchor=\"middle\" x=\"212.88\" y=\"-431.01\" font-family=\"Times,serif\" font-size=\"14.00\">M6</text>\n</g>\n<!-- 140149716903312 -->\n<g id=\"node8\" class=\"node\">\n<title>140149716903312</title>\n<ellipse fill=\"none\" stroke=\"black\" cx=\"212.88\" cy=\"-158.71\" rx=\"27\" ry=\"18\"/>\n<text text-anchor=\"middle\" x=\"212.88\" y=\"-155.01\" font-family=\"Times,serif\" font-size=\"14.00\">M7</text>\n</g>\n<!-- 140149716909600 -->\n<g id=\"node9\" class=\"node\">\n<title>140149716909600</title>\n<ellipse fill=\"none\" stroke=\"black\" cx=\"741.88\" cy=\"-112.71\" rx=\"27\" ry=\"18\"/>\n<text text-anchor=\"middle\" x=\"741.88\" y=\"-109.01\" font-family=\"Times,serif\" font-size=\"14.00\">M8</text>\n</g>\n<!-- 140149716904272 -->\n<g id=\"node10\" class=\"node\">\n<title>140149716904272</title>\n<ellipse fill=\"none\" stroke=\"black\" cx=\"258.88\" cy=\"-710.71\" rx=\"27\" ry=\"18\"/>\n<text text-anchor=\"middle\" x=\"258.88\" y=\"-707.01\" font-family=\"Times,serif\" font-size=\"14.00\">M9</text>\n</g>\n<!-- 140149716905616 -->\n<g id=\"node11\" class=\"node\">\n<title>140149716905616</title>\n<ellipse fill=\"none\" stroke=\"black\" cx=\"488.88\" cy=\"-89.71\" rx=\"27.9\" ry=\"18\"/>\n<text text-anchor=\"middle\" x=\"488.88\" y=\"-86.01\" font-family=\"Times,serif\" font-size=\"14.00\">M10</text>\n</g>\n<!-- 140152301804976 -->\n<g id=\"node12\" class=\"node\">\n<title>140152301804976</title>\n<ellipse fill=\"none\" stroke=\"black\" cx=\"810.88\" cy=\"-411.71\" rx=\"27.9\" ry=\"18\"/>\n<text text-anchor=\"middle\" x=\"810.88\" y=\"-408.01\" font-family=\"Times,serif\" font-size=\"14.00\">M11</text>\n</g>\n<!-- 140152301807232 -->\n<g id=\"node13\" class=\"node\">\n<title>140152301807232</title>\n<ellipse fill=\"none\" stroke=\"black\" cx=\"557.88\" cy=\"-756.71\" rx=\"27.9\" ry=\"18\"/>\n<text text-anchor=\"middle\" x=\"557.88\" y=\"-753.01\" font-family=\"Times,serif\" font-size=\"14.00\">M12</text>\n</g>\n<!-- 140149717172288 -->\n<g id=\"node14\" class=\"node\">\n<title>140149717172288</title>\n<ellipse fill=\"none\" stroke=\"black\" cx=\"856.88\" cy=\"-802.71\" rx=\"27.9\" ry=\"18\"/>\n<text text-anchor=\"middle\" x=\"856.88\" y=\"-799.01\" font-family=\"Times,serif\" font-size=\"14.00\">M13</text>\n</g>\n<!-- 140149717172528 -->\n<g id=\"node15\" class=\"node\">\n<title>140149717172528</title>\n<ellipse fill=\"none\" stroke=\"black\" cx=\"74.88\" cy=\"-549.71\" rx=\"27.9\" ry=\"18\"/>\n<text text-anchor=\"middle\" x=\"74.88\" y=\"-546.01\" font-family=\"Times,serif\" font-size=\"14.00\">M14</text>\n</g>\n<!-- 140149716905232 -->\n<g id=\"node16\" class=\"node\">\n<title>140149716905232</title>\n<ellipse fill=\"none\" stroke=\"black\" cx=\"163.85\" cy=\"-833.63\" rx=\"76.89\" ry=\"18\"/>\n<text text-anchor=\"middle\" x=\"163.85\" y=\"-829.93\" font-family=\"Times,serif\" font-size=\"14.00\">140149716905232</text>\n</g>\n<!-- 140149716905232&#45;&#45;140152307304144 -->\n<g id=\"edge1\" class=\"edge\">\n<title>140149716905232&#45;&#45;140152307304144</title>\n<path fill=\"none\" stroke=\"black\" d=\"M150.2,-815.77C144.47,-808.27 137.84,-799.6 132.26,-792.29\"/>\n</g>\n<!-- 140152307304144_1 -->\n<!-- 140152307304144_1&#45;&#45;140152307304144 -->\n<g id=\"edge2\" class=\"edge\">\n<title>140152307304144_1&#45;&#45;140152307304144</title>\n<path fill=\"none\" stroke=\"black\" d=\"M102.17,-725.56C105.72,-735.67 110.17,-748.33 113.73,-758.46\"/>\n</g>\n<!-- 140149721130192 -->\n<g id=\"node18\" class=\"node\">\n<title>140149721130192</title>\n<ellipse fill=\"none\" stroke=\"black\" cx=\"426.76\" cy=\"-331.49\" rx=\"76.89\" ry=\"18\"/>\n<text text-anchor=\"middle\" x=\"426.76\" y=\"-327.79\" font-family=\"Times,serif\" font-size=\"14.00\">140149721130192</text>\n</g>\n<!-- 140149721130192&#45;&#45;140149721131728 -->\n<g id=\"edge3\" class=\"edge\">\n<title>140149721130192&#45;&#45;140149721131728</title>\n<path fill=\"none\" stroke=\"black\" d=\"M362.74,-321.55C362.63,-321.53 362.52,-321.52 362.41,-321.5\"/>\n</g>\n<!-- 140149721131728_1 -->\n<!-- 140149721131728_1&#45;&#45;140149721131728 -->\n<g id=\"edge4\" class=\"edge\">\n<title>140149721131728_1&#45;&#45;140149721131728</title>\n<path fill=\"none\" stroke=\"black\" d=\"M330.27,-265.73C334.52,-276.84 339.96,-291.11 344.19,-302.19\"/>\n</g>\n<!-- 140149721131728_2 -->\n<!-- 140149721131728_2&#45;&#45;140149721131728 -->\n<g id=\"edge5\" class=\"edge\">\n<title>140149721131728_2&#45;&#45;140149721131728</title>\n<path fill=\"none\" stroke=\"black\" d=\"M315.83,-363.62C322.7,-355.02 331.14,-344.45 338.01,-335.83\"/>\n</g>\n<!-- 140149716905952 -->\n<g id=\"node21\" class=\"node\">\n<title>140149716905952</title>\n<ellipse fill=\"none\" stroke=\"black\" cx=\"610.76\" cy=\"-492.49\" rx=\"76.89\" ry=\"18\"/>\n<text text-anchor=\"middle\" x=\"610.76\" y=\"-488.79\" font-family=\"Times,serif\" font-size=\"14.00\">140149716905952</text>\n</g>\n<!-- 140149716905952&#45;&#45;140149716909696 -->\n<g id=\"edge6\" class=\"edge\">\n<title>140149716905952&#45;&#45;140149716909696</title>\n<path fill=\"none\" stroke=\"black\" d=\"M546.74,-482.55C546.63,-482.53 546.52,-482.52 546.41,-482.5\"/>\n</g>\n<!-- 140149716909696_1 -->\n<!-- 140149716909696_1&#45;&#45;140149716909696 -->\n<g id=\"edge7\" class=\"edge\">\n<title>140149716909696_1&#45;&#45;140149716909696</title>\n<path fill=\"none\" stroke=\"black\" d=\"M514.27,-426.73C518.52,-437.84 523.96,-452.11 528.19,-463.19\"/>\n</g>\n<!-- 140149716909696_2 -->\n<!-- 140149716909696_2&#45;&#45;140149716909696 -->\n<g id=\"edge8\" class=\"edge\">\n<title>140149716909696_2&#45;&#45;140149716909696</title>\n<path fill=\"none\" stroke=\"black\" d=\"M499.83,-524.62C506.7,-516.02 515.14,-505.45 522.01,-496.83\"/>\n</g>\n<!-- 140149716907104 -->\n<g id=\"node24\" class=\"node\">\n<title>140149716907104</title>\n<ellipse fill=\"none\" stroke=\"black\" cx=\"702.76\" cy=\"-262.49\" rx=\"76.89\" ry=\"18\"/>\n<text text-anchor=\"middle\" x=\"702.76\" y=\"-258.79\" font-family=\"Times,serif\" font-size=\"14.00\">140149716907104</text>\n</g>\n<!-- 140149716907104&#45;&#45;140149716909408 -->\n<g id=\"edge9\" class=\"edge\">\n<title>140149716907104&#45;&#45;140149716909408</title>\n<path fill=\"none\" stroke=\"black\" d=\"M638.74,-252.55C638.63,-252.53 638.52,-252.52 638.41,-252.5\"/>\n</g>\n<!-- 140149716909408_1 -->\n<!-- 140149716909408_1&#45;&#45;140149716909408 -->\n<g id=\"edge10\" class=\"edge\">\n<title>140149716909408_1&#45;&#45;140149716909408</title>\n<path fill=\"none\" stroke=\"black\" d=\"M606.27,-196.73C610.52,-207.84 615.96,-222.11 620.19,-233.19\"/>\n</g>\n<!-- 140149716909408_2 -->\n<!-- 140149716909408_2&#45;&#45;140149716909408 -->\n<g id=\"edge11\" class=\"edge\">\n<title>140149716909408_2&#45;&#45;140149716909408</title>\n<path fill=\"none\" stroke=\"black\" d=\"M591.83,-294.62C598.7,-286.02 607.14,-275.45 614.01,-266.83\"/>\n</g>\n<!-- 140149716908208 -->\n<g id=\"node27\" class=\"node\">\n<title>140149716908208</title>\n<ellipse fill=\"none\" stroke=\"black\" cx=\"472.76\" cy=\"-607.49\" rx=\"76.89\" ry=\"18\"/>\n<text text-anchor=\"middle\" x=\"472.76\" y=\"-603.79\" font-family=\"Times,serif\" font-size=\"14.00\">140149716908208</text>\n</g>\n<!-- 140149716908208&#45;&#45;140149716904992 -->\n<g id=\"edge12\" class=\"edge\">\n<title>140149716908208&#45;&#45;140149716904992</title>\n<path fill=\"none\" stroke=\"black\" d=\"M408.74,-597.55C408.63,-597.53 408.52,-597.52 408.41,-597.5\"/>\n</g>\n<!-- 140149716904992_1 -->\n<!-- 140149716904992_1&#45;&#45;140149716904992 -->\n<g id=\"edge13\" class=\"edge\">\n<title>140149716904992_1&#45;&#45;140149716904992</title>\n<path fill=\"none\" stroke=\"black\" d=\"M376.27,-541.73C380.52,-552.84 385.96,-567.11 390.19,-578.19\"/>\n</g>\n<!-- 140149716904992_2 -->\n<!-- 140149716904992_2&#45;&#45;140149716904992 -->\n<g id=\"edge14\" class=\"edge\">\n<title>140149716904992_2&#45;&#45;140149716904992</title>\n<path fill=\"none\" stroke=\"black\" d=\"M361.83,-639.62C368.7,-631.02 377.14,-620.45 384.01,-611.83\"/>\n</g>\n<!-- 140149716903264 -->\n<g id=\"node30\" class=\"node\">\n<title>140149716903264</title>\n<ellipse fill=\"none\" stroke=\"black\" cx=\"771.76\" cy=\"-653.49\" rx=\"76.89\" ry=\"18\"/>\n<text text-anchor=\"middle\" x=\"771.76\" y=\"-649.79\" font-family=\"Times,serif\" font-size=\"14.00\">140149716903264</text>\n</g>\n<!-- 140149716903264&#45;&#45;140149716907056 -->\n<g id=\"edge15\" class=\"edge\">\n<title>140149716903264&#45;&#45;140149716907056</title>\n<path fill=\"none\" stroke=\"black\" d=\"M707.74,-643.55C707.63,-643.53 707.52,-643.52 707.41,-643.5\"/>\n</g>\n<!-- 140149716907056_1 -->\n<!-- 140149716907056_1&#45;&#45;140149716907056 -->\n<g id=\"edge16\" class=\"edge\">\n<title>140149716907056_1&#45;&#45;140149716907056</title>\n<path fill=\"none\" stroke=\"black\" d=\"M675.27,-587.73C679.52,-598.84 684.96,-613.11 689.19,-624.19\"/>\n</g>\n<!-- 140149716907056_2 -->\n<!-- 140149716907056_2&#45;&#45;140149716907056 -->\n<g id=\"edge17\" class=\"edge\">\n<title>140149716907056_2&#45;&#45;140149716907056</title>\n<path fill=\"none\" stroke=\"black\" d=\"M660.83,-685.62C667.7,-677.02 676.14,-666.45 683.01,-657.83\"/>\n</g>\n<!-- 140149716902688 -->\n<g id=\"node33\" class=\"node\">\n<title>140149716902688</title>\n<ellipse fill=\"none\" stroke=\"black\" cx=\"288.76\" cy=\"-446.49\" rx=\"76.89\" ry=\"18\"/>\n<text text-anchor=\"middle\" x=\"288.76\" y=\"-442.79\" font-family=\"Times,serif\" font-size=\"14.00\">140149716902688</text>\n</g>\n<!-- 140149716902688&#45;&#45;140149716907440 -->\n<g id=\"edge18\" class=\"edge\">\n<title>140149716902688&#45;&#45;140149716907440</title>\n<path fill=\"none\" stroke=\"black\" d=\"M224.74,-436.55C224.63,-436.53 224.52,-436.52 224.41,-436.5\"/>\n</g>\n<!-- 140149716907440_1 -->\n<!-- 140149716907440_1&#45;&#45;140149716907440 -->\n<g id=\"edge19\" class=\"edge\">\n<title>140149716907440_1&#45;&#45;140149716907440</title>\n<path fill=\"none\" stroke=\"black\" d=\"M192.27,-380.73C196.52,-391.84 201.96,-406.11 206.19,-417.19\"/>\n</g>\n<!-- 140149716907440_2 -->\n<!-- 140149716907440_2&#45;&#45;140149716907440 -->\n<g id=\"edge20\" class=\"edge\">\n<title>140149716907440_2&#45;&#45;140149716907440</title>\n<path fill=\"none\" stroke=\"black\" d=\"M177.83,-478.62C184.7,-470.02 193.14,-459.45 200.01,-450.83\"/>\n</g>\n<!-- 140149716897168 -->\n<g id=\"node36\" class=\"node\">\n<title>140149716897168</title>\n<ellipse fill=\"none\" stroke=\"black\" cx=\"288.76\" cy=\"-170.49\" rx=\"76.89\" ry=\"18\"/>\n<text text-anchor=\"middle\" x=\"288.76\" y=\"-166.79\" font-family=\"Times,serif\" font-size=\"14.00\">140149716897168</text>\n</g>\n<!-- 140149716897168&#45;&#45;140149716903312 -->\n<g id=\"edge21\" class=\"edge\">\n<title>140149716897168&#45;&#45;140149716903312</title>\n<path fill=\"none\" stroke=\"black\" d=\"M224.74,-160.55C224.63,-160.53 224.52,-160.52 224.41,-160.5\"/>\n</g>\n<!-- 140149716903312_1 -->\n<!-- 140149716903312_1&#45;&#45;140149716903312 -->\n<g id=\"edge22\" class=\"edge\">\n<title>140149716903312_1&#45;&#45;140149716903312</title>\n<path fill=\"none\" stroke=\"black\" d=\"M192.27,-104.73C196.52,-115.84 201.96,-130.11 206.19,-141.19\"/>\n</g>\n<!-- 140149716903312_2 -->\n<!-- 140149716903312_2&#45;&#45;140149716903312 -->\n<g id=\"edge23\" class=\"edge\">\n<title>140149716903312_2&#45;&#45;140149716903312</title>\n<path fill=\"none\" stroke=\"black\" d=\"M177.83,-202.62C184.7,-194.02 193.14,-183.45 200.01,-174.83\"/>\n</g>\n<!-- 140149716906000 -->\n<g id=\"node39\" class=\"node\">\n<title>140149716906000</title>\n<ellipse fill=\"none\" stroke=\"black\" cx=\"817.76\" cy=\"-124.49\" rx=\"76.89\" ry=\"18\"/>\n<text text-anchor=\"middle\" x=\"817.76\" y=\"-120.79\" font-family=\"Times,serif\" font-size=\"14.00\">140149716906000</text>\n</g>\n<!-- 140149716906000&#45;&#45;140149716909600 -->\n<g id=\"edge24\" class=\"edge\">\n<title>140149716906000&#45;&#45;140149716909600</title>\n<path fill=\"none\" stroke=\"black\" d=\"M753.74,-114.55C753.63,-114.53 753.52,-114.52 753.41,-114.5\"/>\n</g>\n<!-- 140149716909600_1 -->\n<!-- 140149716909600_1&#45;&#45;140149716909600 -->\n<g id=\"edge25\" class=\"edge\">\n<title>140149716909600_1&#45;&#45;140149716909600</title>\n<path fill=\"none\" stroke=\"black\" d=\"M721.27,-58.73C725.52,-69.84 730.96,-84.11 735.19,-95.19\"/>\n</g>\n<!-- 140149716909600_2 -->\n<!-- 140149716909600_2&#45;&#45;140149716909600 -->\n<g id=\"edge26\" class=\"edge\">\n<title>140149716909600_2&#45;&#45;140149716909600</title>\n<path fill=\"none\" stroke=\"black\" d=\"M706.83,-156.62C713.7,-148.02 722.14,-137.45 729.01,-128.83\"/>\n</g>\n<!-- 140149716904464 -->\n<g id=\"node42\" class=\"node\">\n<title>140149716904464</title>\n<ellipse fill=\"none\" stroke=\"black\" cx=\"334.76\" cy=\"-722.49\" rx=\"76.89\" ry=\"18\"/>\n<text text-anchor=\"middle\" x=\"334.76\" y=\"-718.79\" font-family=\"Times,serif\" font-size=\"14.00\">140149716904464</text>\n</g>\n<!-- 140149716904464&#45;&#45;140149716904272 -->\n<g id=\"edge27\" class=\"edge\">\n<title>140149716904464&#45;&#45;140149716904272</title>\n<path fill=\"none\" stroke=\"black\" d=\"M270.74,-712.55C270.63,-712.53 270.52,-712.52 270.41,-712.5\"/>\n</g>\n<!-- 140149716904272_1 -->\n<!-- 140149716904272_1&#45;&#45;140149716904272 -->\n<g id=\"edge28\" class=\"edge\">\n<title>140149716904272_1&#45;&#45;140149716904272</title>\n<path fill=\"none\" stroke=\"black\" d=\"M238.27,-656.73C242.52,-667.84 247.96,-682.11 252.19,-693.19\"/>\n</g>\n<!-- 140149716904272_2 -->\n<!-- 140149716904272_2&#45;&#45;140149716904272 -->\n<g id=\"edge29\" class=\"edge\">\n<title>140149716904272_2&#45;&#45;140149716904272</title>\n<path fill=\"none\" stroke=\"black\" d=\"M223.83,-754.62C230.7,-746.02 239.14,-735.45 246.01,-726.83\"/>\n</g>\n<!-- 140149716902832 -->\n<g id=\"node45\" class=\"node\">\n<title>140149716902832</title>\n<ellipse fill=\"none\" stroke=\"black\" cx=\"564.76\" cy=\"-101.49\" rx=\"76.89\" ry=\"18\"/>\n<text text-anchor=\"middle\" x=\"564.76\" y=\"-97.79\" font-family=\"Times,serif\" font-size=\"14.00\">140149716902832</text>\n</g>\n<!-- 140149716902832&#45;&#45;140149716905616 -->\n<g id=\"edge30\" class=\"edge\">\n<title>140149716902832&#45;&#45;140149716905616</title>\n<path fill=\"none\" stroke=\"black\" d=\"M500.74,-91.55C500.63,-91.53 500.52,-91.52 500.41,-91.5\"/>\n</g>\n<!-- 140149716905616_1 -->\n<!-- 140149716905616_1&#45;&#45;140149716905616 -->\n<g id=\"edge31\" class=\"edge\">\n<title>140149716905616_1&#45;&#45;140149716905616</title>\n<path fill=\"none\" stroke=\"black\" d=\"M468.27,-35.73C472.52,-46.84 477.96,-61.11 482.19,-72.19\"/>\n</g>\n<!-- 140149716905616_2 -->\n<!-- 140149716905616_2&#45;&#45;140149716905616 -->\n<g id=\"edge32\" class=\"edge\">\n<title>140149716905616_2&#45;&#45;140149716905616</title>\n<path fill=\"none\" stroke=\"black\" d=\"M453.83,-133.62C460.7,-125.02 469.14,-114.45 476.01,-105.83\"/>\n</g>\n<!-- 140152301806176 -->\n<g id=\"node48\" class=\"node\">\n<title>140152301806176</title>\n<ellipse fill=\"none\" stroke=\"black\" cx=\"886.76\" cy=\"-423.49\" rx=\"76.89\" ry=\"18\"/>\n<text text-anchor=\"middle\" x=\"886.76\" y=\"-419.79\" font-family=\"Times,serif\" font-size=\"14.00\">140152301806176</text>\n</g>\n<!-- 140152301806176&#45;&#45;140152301804976 -->\n<g id=\"edge33\" class=\"edge\">\n<title>140152301806176&#45;&#45;140152301804976</title>\n<path fill=\"none\" stroke=\"black\" d=\"M822.74,-413.55C822.63,-413.53 822.52,-413.52 822.41,-413.5\"/>\n</g>\n<!-- 140152301804976_1 -->\n<!-- 140152301804976_1&#45;&#45;140152301804976 -->\n<g id=\"edge34\" class=\"edge\">\n<title>140152301804976_1&#45;&#45;140152301804976</title>\n<path fill=\"none\" stroke=\"black\" d=\"M790.27,-357.73C794.52,-368.84 799.96,-383.11 804.19,-394.19\"/>\n</g>\n<!-- 140152301804976_2 -->\n<!-- 140152301804976_2&#45;&#45;140152301804976 -->\n<g id=\"edge35\" class=\"edge\">\n<title>140152301804976_2&#45;&#45;140152301804976</title>\n<path fill=\"none\" stroke=\"black\" d=\"M775.83,-455.62C782.7,-447.02 791.14,-436.45 798.01,-427.83\"/>\n</g>\n<!-- 140152301807712 -->\n<g id=\"node51\" class=\"node\">\n<title>140152301807712</title>\n<ellipse fill=\"none\" stroke=\"black\" cx=\"633.76\" cy=\"-768.49\" rx=\"76.89\" ry=\"18\"/>\n<text text-anchor=\"middle\" x=\"633.76\" y=\"-764.79\" font-family=\"Times,serif\" font-size=\"14.00\">140152301807712</text>\n</g>\n<!-- 140152301807712&#45;&#45;140152301807232 -->\n<g id=\"edge36\" class=\"edge\">\n<title>140152301807712&#45;&#45;140152301807232</title>\n<path fill=\"none\" stroke=\"black\" d=\"M569.74,-758.55C569.63,-758.53 569.52,-758.52 569.41,-758.5\"/>\n</g>\n<!-- 140152301807232_1 -->\n<!-- 140152301807232_1&#45;&#45;140152301807232 -->\n<g id=\"edge37\" class=\"edge\">\n<title>140152301807232_1&#45;&#45;140152301807232</title>\n<path fill=\"none\" stroke=\"black\" d=\"M537.27,-702.73C541.52,-713.84 546.96,-728.11 551.19,-739.19\"/>\n</g>\n<!-- 140152301807232_2 -->\n<!-- 140152301807232_2&#45;&#45;140152301807232 -->\n<g id=\"edge38\" class=\"edge\">\n<title>140152301807232_2&#45;&#45;140152301807232</title>\n<path fill=\"none\" stroke=\"black\" d=\"M522.83,-800.62C529.7,-792.02 538.14,-781.45 545.01,-772.83\"/>\n</g>\n<!-- 140152301803824 -->\n<g id=\"node54\" class=\"node\">\n<title>140152301803824</title>\n<ellipse fill=\"none\" stroke=\"black\" cx=\"932.76\" cy=\"-814.49\" rx=\"76.89\" ry=\"18\"/>\n<text text-anchor=\"middle\" x=\"932.76\" y=\"-810.79\" font-family=\"Times,serif\" font-size=\"14.00\">140152301803824</text>\n</g>\n<!-- 140152301803824&#45;&#45;140149717172288 -->\n<g id=\"edge39\" class=\"edge\">\n<title>140152301803824&#45;&#45;140149717172288</title>\n<path fill=\"none\" stroke=\"black\" d=\"M868.74,-804.55C868.63,-804.53 868.52,-804.52 868.41,-804.5\"/>\n</g>\n<!-- 140149717172288_1 -->\n<!-- 140149717172288_1&#45;&#45;140149717172288 -->\n<g id=\"edge40\" class=\"edge\">\n<title>140149717172288_1&#45;&#45;140149717172288</title>\n<path fill=\"none\" stroke=\"black\" d=\"M836.27,-748.73C840.52,-759.84 845.96,-774.11 850.19,-785.19\"/>\n</g>\n<!-- 140149717172288_2 -->\n<!-- 140149717172288_2&#45;&#45;140149717172288 -->\n<g id=\"edge41\" class=\"edge\">\n<title>140149717172288_2&#45;&#45;140149717172288</title>\n<path fill=\"none\" stroke=\"black\" d=\"M821.83,-846.62C828.7,-838.02 837.14,-827.45 844.01,-818.83\"/>\n</g>\n<!-- 140149717172720 -->\n<g id=\"node57\" class=\"node\">\n<title>140149717172720</title>\n<ellipse fill=\"none\" stroke=\"black\" cx=\"150.76\" cy=\"-561.49\" rx=\"76.89\" ry=\"18\"/>\n<text text-anchor=\"middle\" x=\"150.76\" y=\"-557.79\" font-family=\"Times,serif\" font-size=\"14.00\">140149717172720</text>\n</g>\n<!-- 140149717172720&#45;&#45;140149717172528 -->\n<g id=\"edge42\" class=\"edge\">\n<title>140149717172720&#45;&#45;140149717172528</title>\n<path fill=\"none\" stroke=\"black\" d=\"M86.74,-551.55C86.63,-551.53 86.52,-551.52 86.41,-551.5\"/>\n</g>\n<!-- 140149717172528_1 -->\n<!-- 140149717172528_1&#45;&#45;140149717172528 -->\n<g id=\"edge43\" class=\"edge\">\n<title>140149717172528_1&#45;&#45;140149717172528</title>\n<path fill=\"none\" stroke=\"black\" d=\"M54.27,-495.73C58.52,-506.84 63.96,-521.11 68.19,-532.19\"/>\n</g>\n<!-- 140149717172528_2 -->\n<!-- 140149717172528_2&#45;&#45;140149717172528 -->\n<g id=\"edge44\" class=\"edge\">\n<title>140149717172528_2&#45;&#45;140149717172528</title>\n<path fill=\"none\" stroke=\"black\" d=\"M39.83,-593.62C46.7,-585.02 55.14,-574.45 62.01,-565.83\"/>\n</g>\n</g>\n</svg>\n",
            "text/plain": [
              "<graphviz.graphs.Graph at 0x7f7726176500>"
            ]
          },
          "metadata": {},
          "execution_count": 5
        }
      ]
    },
    {
      "cell_type": "code",
      "source": [
        "# one way is to connect the mps and then contract input_tensors and mps tensors\n",
        "# look how M13 has an extra index, it will be used for classification\n",
        "\n",
        "# Function to connect the mps\n",
        "\n",
        "def connect_mps(mps, num_inds):\n",
        "  for iz in range(len(mps)):\n",
        "\n",
        "    if iz==0:\n",
        "      mps[iz][num_inds-2]^mps[iz+1][num_inds-2]\n",
        "\n",
        "    if iz!=0 and iz!=len(mps)-1:\n",
        "      mps[iz][num_inds-1]^mps[iz+1][num_inds-2]\n",
        "\n",
        "  return mps\n",
        "\n",
        "\n",
        "mps = connect_mps(mps, num_inds=3)\n",
        "\n",
        "tn.to_graphviz(mps)"
      ],
      "metadata": {
        "colab": {
          "base_uri": "https://localhost:8080/",
          "height": 846
        },
        "id": "ojixcqcqrU0Q",
        "outputId": "b4f6c8c9-e4ee-45ae-b9ea-7baaefc92e0c"
      },
      "execution_count": 6,
      "outputs": [
        {
          "output_type": "execute_result",
          "data": {
            "image/svg+xml": "<?xml version=\"1.0\" encoding=\"UTF-8\" standalone=\"no\"?>\n<!DOCTYPE svg PUBLIC \"-//W3C//DTD SVG 1.1//EN\"\n \"http://www.w3.org/Graphics/SVG/1.1/DTD/svg11.dtd\">\n<!-- Generated by graphviz version 2.43.0 (0)\n -->\n<!-- Title: G Pages: 1 -->\n<svg width=\"1250pt\" height=\"619pt\"\n viewBox=\"0.00 0.00 1250.16 619.22\" xmlns=\"http://www.w3.org/2000/svg\" xmlns:xlink=\"http://www.w3.org/1999/xlink\">\n<g id=\"graph0\" class=\"graph\" transform=\"scale(1 1) rotate(0) translate(4 615.22)\">\n<title>G</title>\n<polygon fill=\"white\" stroke=\"transparent\" points=\"-4,4 -4,-615.22 1246.16,-615.22 1246.16,4 -4,4\"/>\n<!-- 140152307304144 -->\n<g id=\"node1\" class=\"node\">\n<title>140152307304144</title>\n<ellipse fill=\"none\" stroke=\"black\" cx=\"139.33\" cy=\"-59.63\" rx=\"27\" ry=\"18\"/>\n<text text-anchor=\"middle\" x=\"139.33\" y=\"-55.93\" font-family=\"Times,serif\" font-size=\"14.00\">M0</text>\n</g>\n<!-- 140149721131728 -->\n<g id=\"node2\" class=\"node\">\n<title>140149721131728</title>\n<ellipse fill=\"none\" stroke=\"black\" cx=\"212.59\" cy=\"-93.74\" rx=\"27\" ry=\"18\"/>\n<text text-anchor=\"middle\" x=\"212.59\" y=\"-90.04\" font-family=\"Times,serif\" font-size=\"14.00\">M1</text>\n</g>\n<!-- 140152307304144&#45;&#45;140149721131728 -->\n<g id=\"edge2\" class=\"edge\">\n<title>140152307304144&#45;&#45;140149721131728</title>\n<path fill=\"none\" stroke=\"black\" d=\"M161.71,-70.05C170.8,-74.28 181.28,-79.16 190.35,-83.38\"/>\n</g>\n<!-- 140149716909696 -->\n<g id=\"node3\" class=\"node\">\n<title>140149716909696</title>\n<ellipse fill=\"none\" stroke=\"black\" cx=\"232.2\" cy=\"-175.09\" rx=\"27\" ry=\"18\"/>\n<text text-anchor=\"middle\" x=\"232.2\" y=\"-171.39\" font-family=\"Times,serif\" font-size=\"14.00\">M2</text>\n</g>\n<!-- 140149721131728&#45;&#45;140149716909696 -->\n<g id=\"edge4\" class=\"edge\">\n<title>140149721131728&#45;&#45;140149716909696</title>\n<path fill=\"none\" stroke=\"black\" d=\"M216.94,-111.79C220.19,-125.28 224.61,-143.62 227.86,-157.09\"/>\n</g>\n<!-- 140149716909408 -->\n<g id=\"node4\" class=\"node\">\n<title>140149716909408</title>\n<ellipse fill=\"none\" stroke=\"black\" cx=\"282.69\" cy=\"-241.49\" rx=\"27\" ry=\"18\"/>\n<text text-anchor=\"middle\" x=\"282.69\" y=\"-237.79\" font-family=\"Times,serif\" font-size=\"14.00\">M3</text>\n</g>\n<!-- 140149716909696&#45;&#45;140149716909408 -->\n<g id=\"edge6\" class=\"edge\">\n<title>140149716909696&#45;&#45;140149716909408</title>\n<path fill=\"none\" stroke=\"black\" d=\"M244.42,-191.17C252.24,-201.45 262.36,-214.76 270.23,-225.1\"/>\n</g>\n<!-- 140149716904992 -->\n<g id=\"node5\" class=\"node\">\n<title>140149716904992</title>\n<ellipse fill=\"none\" stroke=\"black\" cx=\"355.15\" cy=\"-283.45\" rx=\"27\" ry=\"18\"/>\n<text text-anchor=\"middle\" x=\"355.15\" y=\"-279.75\" font-family=\"Times,serif\" font-size=\"14.00\">M4</text>\n</g>\n<!-- 140149716909408&#45;&#45;140149716904992 -->\n<g id=\"edge8\" class=\"edge\">\n<title>140149716909408&#45;&#45;140149716904992</title>\n<path fill=\"none\" stroke=\"black\" d=\"M303.26,-253.4C313.05,-259.07 324.73,-265.83 334.52,-271.51\"/>\n</g>\n<!-- 140149716907056 -->\n<g id=\"node6\" class=\"node\">\n<title>140149716907056</title>\n<ellipse fill=\"none\" stroke=\"black\" cx=\"440.02\" cy=\"-282.54\" rx=\"27\" ry=\"18\"/>\n<text text-anchor=\"middle\" x=\"440.02\" y=\"-278.84\" font-family=\"Times,serif\" font-size=\"14.00\">M5</text>\n</g>\n<!-- 140149716904992&#45;&#45;140149716907056 -->\n<g id=\"edge10\" class=\"edge\">\n<title>140149716904992&#45;&#45;140149716907056</title>\n<path fill=\"none\" stroke=\"black\" d=\"M382.47,-283.16C392.16,-283.05 403.06,-282.93 412.75,-282.83\"/>\n</g>\n<!-- 140149716907440 -->\n<g id=\"node7\" class=\"node\">\n<title>140149716907440</title>\n<ellipse fill=\"none\" stroke=\"black\" cx=\"514.15\" cy=\"-323.68\" rx=\"27\" ry=\"18\"/>\n<text text-anchor=\"middle\" x=\"514.15\" y=\"-319.98\" font-family=\"Times,serif\" font-size=\"14.00\">M6</text>\n</g>\n<!-- 140149716907056&#45;&#45;140149716907440 -->\n<g id=\"edge12\" class=\"edge\">\n<title>140149716907056&#45;&#45;140149716907440</title>\n<path fill=\"none\" stroke=\"black\" d=\"M461.07,-294.22C471.17,-299.82 483.24,-306.52 493.31,-312.11\"/>\n</g>\n<!-- 140149716903312 -->\n<g id=\"node8\" class=\"node\">\n<title>140149716903312</title>\n<ellipse fill=\"none\" stroke=\"black\" cx=\"555.4\" cy=\"-397.85\" rx=\"27\" ry=\"18\"/>\n<text text-anchor=\"middle\" x=\"555.4\" y=\"-394.15\" font-family=\"Times,serif\" font-size=\"14.00\">M7</text>\n</g>\n<!-- 140149716907440&#45;&#45;140149716903312 -->\n<g id=\"edge14\" class=\"edge\">\n<title>140149716907440&#45;&#45;140149716903312</title>\n<path fill=\"none\" stroke=\"black\" d=\"M523.72,-340.88C530.38,-352.86 539.23,-368.78 545.88,-380.74\"/>\n</g>\n<!-- 140149716909600 -->\n<g id=\"node9\" class=\"node\">\n<title>140149716909600</title>\n<ellipse fill=\"none\" stroke=\"black\" cx=\"622.85\" cy=\"-447.16\" rx=\"27\" ry=\"18\"/>\n<text text-anchor=\"middle\" x=\"622.85\" y=\"-443.46\" font-family=\"Times,serif\" font-size=\"14.00\">M8</text>\n</g>\n<!-- 140149716903312&#45;&#45;140149716909600 -->\n<g id=\"edge16\" class=\"edge\">\n<title>140149716903312&#45;&#45;140149716909600</title>\n<path fill=\"none\" stroke=\"black\" d=\"M573.83,-411.33C583.35,-418.28 594.93,-426.75 604.44,-433.71\"/>\n</g>\n<!-- 140149716904272 -->\n<g id=\"node10\" class=\"node\">\n<title>140149716904272</title>\n<ellipse fill=\"none\" stroke=\"black\" cx=\"702.9\" cy=\"-470.23\" rx=\"27\" ry=\"18\"/>\n<text text-anchor=\"middle\" x=\"702.9\" y=\"-466.53\" font-family=\"Times,serif\" font-size=\"14.00\">M9</text>\n</g>\n<!-- 140149716909600&#45;&#45;140149716904272 -->\n<g id=\"edge18\" class=\"edge\">\n<title>140149716909600&#45;&#45;140149716904272</title>\n<path fill=\"none\" stroke=\"black\" d=\"M647.74,-454.34C657.38,-457.11 668.39,-460.29 678.02,-463.06\"/>\n</g>\n<!-- 140149716905616 -->\n<g id=\"node11\" class=\"node\">\n<title>140149716905616</title>\n<ellipse fill=\"none\" stroke=\"black\" cx=\"786.93\" cy=\"-458.08\" rx=\"27.9\" ry=\"18\"/>\n<text text-anchor=\"middle\" x=\"786.93\" y=\"-454.38\" font-family=\"Times,serif\" font-size=\"14.00\">M10</text>\n</g>\n<!-- 140149716904272&#45;&#45;140149716905616 -->\n<g id=\"edge20\" class=\"edge\">\n<title>140149716904272&#45;&#45;140149716905616</title>\n<path fill=\"none\" stroke=\"black\" d=\"M729.48,-466.39C739.1,-464.99 749.97,-463.42 759.65,-462.02\"/>\n</g>\n<!-- 140152301804976 -->\n<g id=\"node12\" class=\"node\">\n<title>140152301804976</title>\n<ellipse fill=\"none\" stroke=\"black\" cx=\"856.83\" cy=\"-506.63\" rx=\"27.9\" ry=\"18\"/>\n<text text-anchor=\"middle\" x=\"856.83\" y=\"-502.93\" font-family=\"Times,serif\" font-size=\"14.00\">M11</text>\n</g>\n<!-- 140149716905616&#45;&#45;140152301804976 -->\n<g id=\"edge22\" class=\"edge\">\n<title>140149716905616&#45;&#45;140152301804976</title>\n<path fill=\"none\" stroke=\"black\" d=\"M806.03,-471.35C815.89,-478.2 827.9,-486.53 837.76,-493.38\"/>\n</g>\n<!-- 140152301807232 -->\n<g id=\"node13\" class=\"node\">\n<title>140152301807232</title>\n<ellipse fill=\"none\" stroke=\"black\" cx=\"940.59\" cy=\"-510.12\" rx=\"27.9\" ry=\"18\"/>\n<text text-anchor=\"middle\" x=\"940.59\" y=\"-506.42\" font-family=\"Times,serif\" font-size=\"14.00\">M12</text>\n</g>\n<!-- 140152301804976&#45;&#45;140152301807232 -->\n<g id=\"edge24\" class=\"edge\">\n<title>140152301804976&#45;&#45;140152301807232</title>\n<path fill=\"none\" stroke=\"black\" d=\"M884.72,-507.79C893.67,-508.16 903.58,-508.58 912.54,-508.95\"/>\n</g>\n<!-- 140149717172288 -->\n<g id=\"node14\" class=\"node\">\n<title>140149717172288</title>\n<ellipse fill=\"none\" stroke=\"black\" cx=\"1018.17\" cy=\"-477.17\" rx=\"27.9\" ry=\"18\"/>\n<text text-anchor=\"middle\" x=\"1018.17\" y=\"-473.47\" font-family=\"Times,serif\" font-size=\"14.00\">M13</text>\n</g>\n<!-- 140152301807232&#45;&#45;140149717172288 -->\n<g id=\"edge26\" class=\"edge\">\n<title>140152301807232&#45;&#45;140149717172288</title>\n<path fill=\"none\" stroke=\"black\" d=\"M964.29,-500.05C973.91,-495.96 985.01,-491.25 994.62,-487.17\"/>\n</g>\n<!-- 140149717172528 -->\n<g id=\"node15\" class=\"node\">\n<title>140149717172528</title>\n<ellipse fill=\"none\" stroke=\"black\" cx=\"1095.08\" cy=\"-509.74\" rx=\"27.9\" ry=\"18\"/>\n<text text-anchor=\"middle\" x=\"1095.08\" y=\"-506.04\" font-family=\"Times,serif\" font-size=\"14.00\">M14</text>\n</g>\n<!-- 140149717172288&#45;&#45;140149717172528 -->\n<g id=\"edge28\" class=\"edge\">\n<title>140149717172288&#45;&#45;140149717172528</title>\n<path fill=\"none\" stroke=\"black\" d=\"M1041.66,-487.12C1051.12,-491.12 1062,-495.73 1071.47,-499.74\"/>\n</g>\n<!-- 140149716905232 -->\n<g id=\"node16\" class=\"node\">\n<title>140149716905232</title>\n<ellipse fill=\"none\" stroke=\"black\" cx=\"76.69\" cy=\"-18\" rx=\"76.89\" ry=\"18\"/>\n<text text-anchor=\"middle\" x=\"76.69\" y=\"-14.3\" font-family=\"Times,serif\" font-size=\"14.00\">140149716905232</text>\n</g>\n<!-- 140149716905232&#45;&#45;140152307304144 -->\n<g id=\"edge1\" class=\"edge\">\n<title>140149716905232&#45;&#45;140152307304144</title>\n<path fill=\"none\" stroke=\"black\" d=\"M102.53,-35.17C108.33,-39.02 114.38,-43.05 119.87,-46.69\"/>\n</g>\n<!-- 140149721130192 -->\n<g id=\"node17\" class=\"node\">\n<title>140149721130192</title>\n<ellipse fill=\"none\" stroke=\"black\" cx=\"243.12\" cy=\"-18.49\" rx=\"76.89\" ry=\"18\"/>\n<text text-anchor=\"middle\" x=\"243.12\" y=\"-14.79\" font-family=\"Times,serif\" font-size=\"14.00\">140149721130192</text>\n</g>\n<!-- 140149721130192&#45;&#45;140149721131728 -->\n<g id=\"edge3\" class=\"edge\">\n<title>140149721130192&#45;&#45;140149721131728</title>\n<path fill=\"none\" stroke=\"black\" d=\"M235.73,-36.71C230.86,-48.71 224.52,-64.35 219.7,-76.21\"/>\n</g>\n<!-- 140149716905952 -->\n<g id=\"node18\" class=\"node\">\n<title>140149716905952</title>\n<ellipse fill=\"none\" stroke=\"black\" cx=\"153.91\" cy=\"-207.09\" rx=\"76.89\" ry=\"18\"/>\n<text text-anchor=\"middle\" x=\"153.91\" y=\"-203.39\" font-family=\"Times,serif\" font-size=\"14.00\">140149716905952</text>\n</g>\n<!-- 140149716905952&#45;&#45;140149716909696 -->\n<g id=\"edge5\" class=\"edge\">\n<title>140149716905952&#45;&#45;140149716909696</title>\n<path fill=\"none\" stroke=\"black\" d=\"M192.14,-191.46C197.88,-189.12 203.65,-186.76 208.95,-184.59\"/>\n</g>\n<!-- 140149716907104 -->\n<g id=\"node19\" class=\"node\">\n<title>140149716907104</title>\n<ellipse fill=\"none\" stroke=\"black\" cx=\"220.8\" cy=\"-302.12\" rx=\"76.89\" ry=\"18\"/>\n<text text-anchor=\"middle\" x=\"220.8\" y=\"-298.42\" font-family=\"Times,serif\" font-size=\"14.00\">140149716907104</text>\n</g>\n<!-- 140149716907104&#45;&#45;140149716909408 -->\n<g id=\"edge7\" class=\"edge\">\n<title>140149716907104&#45;&#45;140149716909408</title>\n<path fill=\"none\" stroke=\"black\" d=\"M238.7,-284.58C247.7,-275.77 258.49,-265.19 267.14,-256.72\"/>\n</g>\n<!-- 140149716908208 -->\n<g id=\"node20\" class=\"node\">\n<title>140149716908208</title>\n<ellipse fill=\"none\" stroke=\"black\" cx=\"317.08\" cy=\"-358.08\" rx=\"76.89\" ry=\"18\"/>\n<text text-anchor=\"middle\" x=\"317.08\" y=\"-354.38\" font-family=\"Times,serif\" font-size=\"14.00\">140149716908208</text>\n</g>\n<!-- 140149716908208&#45;&#45;140149716904992 -->\n<g id=\"edge9\" class=\"edge\">\n<title>140149716908208&#45;&#45;140149716904992</title>\n<path fill=\"none\" stroke=\"black\" d=\"M326.29,-340.01C332.41,-328.02 340.39,-312.38 346.41,-300.58\"/>\n</g>\n<!-- 140149716903264 -->\n<g id=\"node21\" class=\"node\">\n<title>140149716903264</title>\n<ellipse fill=\"none\" stroke=\"black\" cx=\"465.16\" cy=\"-202.82\" rx=\"76.89\" ry=\"18\"/>\n<text text-anchor=\"middle\" x=\"465.16\" y=\"-199.12\" font-family=\"Times,serif\" font-size=\"14.00\">140149716903264</text>\n</g>\n<!-- 140149716903264&#45;&#45;140149716907056 -->\n<g id=\"edge11\" class=\"edge\">\n<title>140149716903264&#45;&#45;140149716907056</title>\n<path fill=\"none\" stroke=\"black\" d=\"M459.46,-220.91C455.32,-234.05 449.74,-251.74 445.62,-264.8\"/>\n</g>\n<!-- 140149716902688 -->\n<g id=\"node22\" class=\"node\">\n<title>140149716902688</title>\n<ellipse fill=\"none\" stroke=\"black\" cx=\"563.64\" cy=\"-256.92\" rx=\"76.89\" ry=\"18\"/>\n<text text-anchor=\"middle\" x=\"563.64\" y=\"-253.22\" font-family=\"Times,serif\" font-size=\"14.00\">140149716902688</text>\n</g>\n<!-- 140149716902688&#45;&#45;140149716907440 -->\n<g id=\"edge13\" class=\"edge\">\n<title>140149716902688&#45;&#45;140149716907440</title>\n<path fill=\"none\" stroke=\"black\" d=\"M550.38,-274.81C542.94,-284.85 533.71,-297.3 526.43,-307.11\"/>\n</g>\n<!-- 140149716897168 -->\n<g id=\"node23\" class=\"node\">\n<title>140149716897168</title>\n<ellipse fill=\"none\" stroke=\"black\" cx=\"500.92\" cy=\"-461.74\" rx=\"76.89\" ry=\"18\"/>\n<text text-anchor=\"middle\" x=\"500.92\" y=\"-458.04\" font-family=\"Times,serif\" font-size=\"14.00\">140149716897168</text>\n</g>\n<!-- 140149716897168&#45;&#45;140149716903312 -->\n<g id=\"edge15\" class=\"edge\">\n<title>140149716897168&#45;&#45;140149716903312</title>\n<path fill=\"none\" stroke=\"black\" d=\"M516.1,-443.94C524.16,-434.49 533.98,-422.97 541.79,-413.81\"/>\n</g>\n<!-- 140149716906000 -->\n<g id=\"node24\" class=\"node\">\n<title>140149716906000</title>\n<ellipse fill=\"none\" stroke=\"black\" cx=\"586.08\" cy=\"-526.86\" rx=\"76.89\" ry=\"18\"/>\n<text text-anchor=\"middle\" x=\"586.08\" y=\"-523.16\" font-family=\"Times,serif\" font-size=\"14.00\">140149716906000</text>\n</g>\n<!-- 140149716906000&#45;&#45;140149716909600 -->\n<g id=\"edge17\" class=\"edge\">\n<title>140149716906000&#45;&#45;140149716909600</title>\n<path fill=\"none\" stroke=\"black\" d=\"M594.43,-508.78C600.53,-495.55 608.76,-477.71 614.8,-464.63\"/>\n</g>\n<!-- 140149716904464 -->\n<g id=\"node25\" class=\"node\">\n<title>140149716904464</title>\n<ellipse fill=\"none\" stroke=\"black\" cx=\"689.3\" cy=\"-554.58\" rx=\"76.89\" ry=\"18\"/>\n<text text-anchor=\"middle\" x=\"689.3\" y=\"-550.88\" font-family=\"Times,serif\" font-size=\"14.00\">140149716904464</text>\n</g>\n<!-- 140149716904464&#45;&#45;140149716904272 -->\n<g id=\"edge19\" class=\"edge\">\n<title>140149716904464&#45;&#45;140149716904272</title>\n<path fill=\"none\" stroke=\"black\" d=\"M692.25,-536.28C694.55,-522.03 697.72,-502.37 700,-488.21\"/>\n</g>\n<!-- 140149716902832 -->\n<g id=\"node26\" class=\"node\">\n<title>140149716902832</title>\n<ellipse fill=\"none\" stroke=\"black\" cx=\"813.55\" cy=\"-381.36\" rx=\"76.89\" ry=\"18\"/>\n<text text-anchor=\"middle\" x=\"813.55\" y=\"-377.66\" font-family=\"Times,serif\" font-size=\"14.00\">140149716902832</text>\n</g>\n<!-- 140149716902832&#45;&#45;140149716905616 -->\n<g id=\"edge21\" class=\"edge\">\n<title>140149716902832&#45;&#45;140149716905616</title>\n<path fill=\"none\" stroke=\"black\" d=\"M807.24,-399.54C802.97,-411.86 797.35,-428.06 793.1,-440.29\"/>\n</g>\n<!-- 140152301806176 -->\n<g id=\"node27\" class=\"node\">\n<title>140152301806176</title>\n<ellipse fill=\"none\" stroke=\"black\" cx=\"844.58\" cy=\"-590.9\" rx=\"76.89\" ry=\"18\"/>\n<text text-anchor=\"middle\" x=\"844.58\" y=\"-587.2\" font-family=\"Times,serif\" font-size=\"14.00\">140152301806176</text>\n</g>\n<!-- 140152301806176&#45;&#45;140152301804976 -->\n<g id=\"edge23\" class=\"edge\">\n<title>140152301806176&#45;&#45;140152301804976</title>\n<path fill=\"none\" stroke=\"black\" d=\"M847.24,-572.61C849.31,-558.38 852.17,-538.74 854.22,-524.59\"/>\n</g>\n<!-- 140152301807712 -->\n<g id=\"node28\" class=\"node\">\n<title>140152301807712</title>\n<ellipse fill=\"none\" stroke=\"black\" cx=\"957.43\" cy=\"-593.22\" rx=\"76.89\" ry=\"18\"/>\n<text text-anchor=\"middle\" x=\"957.43\" y=\"-589.52\" font-family=\"Times,serif\" font-size=\"14.00\">140152301807712</text>\n</g>\n<!-- 140152301807712&#45;&#45;140152301807232 -->\n<g id=\"edge25\" class=\"edge\">\n<title>140152301807712&#45;&#45;140152301807232</title>\n<path fill=\"none\" stroke=\"black\" d=\"M953.78,-575.19C950.95,-561.25 947.06,-542.04 944.24,-528.11\"/>\n</g>\n<!-- 140152301803824 -->\n<g id=\"node29\" class=\"node\">\n<title>140152301803824</title>\n<ellipse fill=\"none\" stroke=\"black\" cx=\"1047.01\" cy=\"-400.28\" rx=\"76.89\" ry=\"18\"/>\n<text text-anchor=\"middle\" x=\"1047.01\" y=\"-396.58\" font-family=\"Times,serif\" font-size=\"14.00\">140152301803824</text>\n</g>\n<!-- 140152301803824&#45;&#45;140149717172288 -->\n<g id=\"edge27\" class=\"edge\">\n<title>140152301803824&#45;&#45;140149717172288</title>\n<path fill=\"none\" stroke=\"black\" d=\"M1040.18,-418.5C1035.51,-430.94 1029.37,-447.32 1024.76,-459.61\"/>\n</g>\n<!-- 140149717172720 -->\n<g id=\"node30\" class=\"node\">\n<title>140149717172720</title>\n<ellipse fill=\"none\" stroke=\"black\" cx=\"1165.46\" cy=\"-470.42\" rx=\"76.89\" ry=\"18\"/>\n<text text-anchor=\"middle\" x=\"1165.46\" y=\"-466.72\" font-family=\"Times,serif\" font-size=\"14.00\">140149717172720</text>\n</g>\n<!-- 140149717172720&#45;&#45;140149717172528 -->\n<g id=\"edge29\" class=\"edge\">\n<title>140149717172720&#45;&#45;140149717172528</title>\n<path fill=\"none\" stroke=\"black\" d=\"M1135.62,-487.09C1129.17,-490.69 1122.48,-494.43 1116.44,-497.8\"/>\n</g>\n<!-- 140149717172528_2 -->\n<!-- 140149717172528_2&#45;&#45;140149717172528 -->\n<g id=\"edge30\" class=\"edge\">\n<title>140149717172528_2&#45;&#45;140149717172528</title>\n<path fill=\"none\" stroke=\"black\" d=\"M1128.06,-560.77C1121.37,-550.42 1112.81,-537.17 1106.09,-526.77\"/>\n</g>\n</g>\n</svg>\n",
            "text/plain": [
              "<graphviz.graphs.Graph at 0x7f7726176740>"
            ]
          },
          "metadata": {},
          "execution_count": 6
        }
      ]
    },
    {
      "cell_type": "code",
      "source": [
        "# And now contracting the nodes\n",
        "\n",
        "def contract_data(a,b):\n",
        "  return (a@b).tensor\n",
        "\n",
        "c = [tn.Node(contract_data(input_tensors[iz], mps[iz]), name=f'C{iz}') for iz in range(L)]\n",
        "\n",
        "mps_new = connect_mps(c, num_inds=2)\n",
        "\n",
        "tn.to_graphviz(c)\n"
      ],
      "metadata": {
        "colab": {
          "base_uri": "https://localhost:8080/",
          "height": 542
        },
        "id": "uJfxMOgWr3k3",
        "outputId": "b26efa0a-e6b4-4d36-8647-3b49894da7f8"
      },
      "execution_count": 7,
      "outputs": [
        {
          "output_type": "execute_result",
          "data": {
            "image/svg+xml": "<?xml version=\"1.0\" encoding=\"UTF-8\" standalone=\"no\"?>\n<!DOCTYPE svg PUBLIC \"-//W3C//DTD SVG 1.1//EN\"\n \"http://www.w3.org/Graphics/SVG/1.1/DTD/svg11.dtd\">\n<!-- Generated by graphviz version 2.43.0 (0)\n -->\n<!-- Title: G Pages: 1 -->\n<svg width=\"1066pt\" height=\"391pt\"\n viewBox=\"0.00 0.00 1066.24 390.99\" xmlns=\"http://www.w3.org/2000/svg\" xmlns:xlink=\"http://www.w3.org/1999/xlink\">\n<g id=\"graph0\" class=\"graph\" transform=\"scale(1 1) rotate(0) translate(4 386.99)\">\n<title>G</title>\n<polygon fill=\"white\" stroke=\"transparent\" points=\"-4,4 -4,-386.99 1062.24,-386.99 1062.24,4 -4,4\"/>\n<!-- 140152307307072 -->\n<g id=\"node1\" class=\"node\">\n<title>140152307307072</title>\n<ellipse fill=\"none\" stroke=\"black\" cx=\"27\" cy=\"-18\" rx=\"27\" ry=\"18\"/>\n<text text-anchor=\"middle\" x=\"27\" y=\"-14.3\" font-family=\"Times,serif\" font-size=\"14.00\">C0</text>\n</g>\n<!-- 140149721131536 -->\n<g id=\"node2\" class=\"node\">\n<title>140149721131536</title>\n<ellipse fill=\"none\" stroke=\"black\" cx=\"99.05\" cy=\"-21.57\" rx=\"27\" ry=\"18\"/>\n<text text-anchor=\"middle\" x=\"99.05\" y=\"-17.87\" font-family=\"Times,serif\" font-size=\"14.00\">C1</text>\n</g>\n<!-- 140152307307072&#45;&#45;140149721131536 -->\n<g id=\"edge1\" class=\"edge\">\n<title>140152307307072&#45;&#45;140149721131536</title>\n<path fill=\"none\" stroke=\"black\" d=\"M54.24,-19.35C59.98,-19.63 66.03,-19.93 71.77,-20.22\"/>\n</g>\n<!-- 140149716899232 -->\n<g id=\"node3\" class=\"node\">\n<title>140149716899232</title>\n<ellipse fill=\"none\" stroke=\"black\" cx=\"171.33\" cy=\"-23.06\" rx=\"27\" ry=\"18\"/>\n<text text-anchor=\"middle\" x=\"171.33\" y=\"-19.36\" font-family=\"Times,serif\" font-size=\"14.00\">C2</text>\n</g>\n<!-- 140149721131536&#45;&#45;140149716899232 -->\n<g id=\"edge2\" class=\"edge\">\n<title>140149721131536&#45;&#45;140149716899232</title>\n<path fill=\"none\" stroke=\"black\" d=\"M126.38,-22.14C132.13,-22.25 138.21,-22.38 143.97,-22.5\"/>\n</g>\n<!-- 140149716907008 -->\n<g id=\"node4\" class=\"node\">\n<title>140149716907008</title>\n<ellipse fill=\"none\" stroke=\"black\" cx=\"242.52\" cy=\"-35.54\" rx=\"27\" ry=\"18\"/>\n<text text-anchor=\"middle\" x=\"242.52\" y=\"-31.84\" font-family=\"Times,serif\" font-size=\"14.00\">C3</text>\n</g>\n<!-- 140149716899232&#45;&#45;140149716907008 -->\n<g id=\"edge3\" class=\"edge\">\n<title>140149716899232&#45;&#45;140149716907008</title>\n<path fill=\"none\" stroke=\"black\" d=\"M197.84,-27.71C203.85,-28.76 210.23,-29.88 216.23,-30.93\"/>\n</g>\n<!-- 140149716906864 -->\n<g id=\"node5\" class=\"node\">\n<title>140149716906864</title>\n<ellipse fill=\"none\" stroke=\"black\" cx=\"314.18\" cy=\"-44.76\" rx=\"27\" ry=\"18\"/>\n<text text-anchor=\"middle\" x=\"314.18\" y=\"-41.06\" font-family=\"Times,serif\" font-size=\"14.00\">C4</text>\n</g>\n<!-- 140149716907008&#45;&#45;140149716906864 -->\n<g id=\"edge4\" class=\"edge\">\n<title>140149716907008&#45;&#45;140149716906864</title>\n<path fill=\"none\" stroke=\"black\" d=\"M269.2,-38.97C275.09,-39.73 281.33,-40.53 287.23,-41.29\"/>\n</g>\n<!-- 140149716903072 -->\n<g id=\"node6\" class=\"node\">\n<title>140149716903072</title>\n<ellipse fill=\"none\" stroke=\"black\" cx=\"385.71\" cy=\"-55.31\" rx=\"27\" ry=\"18\"/>\n<text text-anchor=\"middle\" x=\"385.71\" y=\"-51.61\" font-family=\"Times,serif\" font-size=\"14.00\">C5</text>\n</g>\n<!-- 140149716906864&#45;&#45;140149716903072 -->\n<g id=\"edge5\" class=\"edge\">\n<title>140149716906864&#45;&#45;140149716903072</title>\n<path fill=\"none\" stroke=\"black\" d=\"M340.81,-48.69C346.85,-49.58 353.26,-50.53 359.29,-51.42\"/>\n</g>\n<!-- 140149716909312 -->\n<g id=\"node7\" class=\"node\">\n<title>140149716909312</title>\n<ellipse fill=\"none\" stroke=\"black\" cx=\"456.27\" cy=\"-71.27\" rx=\"27\" ry=\"18\"/>\n<text text-anchor=\"middle\" x=\"456.27\" y=\"-67.57\" font-family=\"Times,serif\" font-size=\"14.00\">C6</text>\n</g>\n<!-- 140149716903072&#45;&#45;140149716909312 -->\n<g id=\"edge6\" class=\"edge\">\n<title>140149716903072&#45;&#45;140149716909312</title>\n<path fill=\"none\" stroke=\"black\" d=\"M411.59,-61.16C417.72,-62.55 424.27,-64.03 430.4,-65.42\"/>\n</g>\n<!-- 140149716904320 -->\n<g id=\"node8\" class=\"node\">\n<title>140149716904320</title>\n<ellipse fill=\"none\" stroke=\"black\" cx=\"525.97\" cy=\"-90.68\" rx=\"27\" ry=\"18\"/>\n<text text-anchor=\"middle\" x=\"525.97\" y=\"-86.98\" font-family=\"Times,serif\" font-size=\"14.00\">C7</text>\n</g>\n<!-- 140149716909312&#45;&#45;140149716904320 -->\n<g id=\"edge7\" class=\"edge\">\n<title>140149716909312&#45;&#45;140149716904320</title>\n<path fill=\"none\" stroke=\"black\" d=\"M481.44,-78.28C487.67,-80.02 494.36,-81.88 500.61,-83.62\"/>\n</g>\n<!-- 140149716905568 -->\n<g id=\"node9\" class=\"node\">\n<title>140149716905568</title>\n<ellipse fill=\"none\" stroke=\"black\" cx=\"594.41\" cy=\"-114.16\" rx=\"27\" ry=\"18\"/>\n<text text-anchor=\"middle\" x=\"594.41\" y=\"-110.46\" font-family=\"Times,serif\" font-size=\"14.00\">C8</text>\n</g>\n<!-- 140149716904320&#45;&#45;140149716905568 -->\n<g id=\"edge8\" class=\"edge\">\n<title>140149716904320&#45;&#45;140149716905568</title>\n<path fill=\"none\" stroke=\"black\" d=\"M550.29,-99.02C556.74,-101.24 563.71,-103.63 570.16,-105.84\"/>\n</g>\n<!-- 140149716904512 -->\n<g id=\"node10\" class=\"node\">\n<title>140149716904512</title>\n<ellipse fill=\"none\" stroke=\"black\" cx=\"661.95\" cy=\"-140.09\" rx=\"27\" ry=\"18\"/>\n<text text-anchor=\"middle\" x=\"661.95\" y=\"-136.39\" font-family=\"Times,serif\" font-size=\"14.00\">C9</text>\n</g>\n<!-- 140149716905568&#45;&#45;140149716904512 -->\n<g id=\"edge9\" class=\"edge\">\n<title>140149716905568&#45;&#45;140149716904512</title>\n<path fill=\"none\" stroke=\"black\" d=\"M618.03,-123.23C624.57,-125.74 631.68,-128.47 638.23,-130.98\"/>\n</g>\n<!-- 140149716909840 -->\n<g id=\"node11\" class=\"node\">\n<title>140149716909840</title>\n<ellipse fill=\"none\" stroke=\"black\" cx=\"727.88\" cy=\"-169.9\" rx=\"27\" ry=\"18\"/>\n<text text-anchor=\"middle\" x=\"727.88\" y=\"-166.2\" font-family=\"Times,serif\" font-size=\"14.00\">C10</text>\n</g>\n<!-- 140149716904512&#45;&#45;140149716909840 -->\n<g id=\"edge10\" class=\"edge\">\n<title>140149716904512&#45;&#45;140149716909840</title>\n<path fill=\"none\" stroke=\"black\" d=\"M684.64,-150.35C691.34,-153.38 698.68,-156.7 705.37,-159.73\"/>\n</g>\n<!-- 140149716902880 -->\n<g id=\"node12\" class=\"node\">\n<title>140149716902880</title>\n<ellipse fill=\"none\" stroke=\"black\" cx=\"791.79\" cy=\"-203.79\" rx=\"27\" ry=\"18\"/>\n<text text-anchor=\"middle\" x=\"791.79\" y=\"-200.09\" font-family=\"Times,serif\" font-size=\"14.00\">C11</text>\n</g>\n<!-- 140149716909840&#45;&#45;140149716902880 -->\n<g id=\"edge11\" class=\"edge\">\n<title>140149716909840&#45;&#45;140149716902880</title>\n<path fill=\"none\" stroke=\"black\" d=\"M749.16,-181.19C755.99,-184.81 763.55,-188.81 770.39,-192.44\"/>\n</g>\n<!-- 140149716901296 -->\n<g id=\"node13\" class=\"node\">\n<title>140149716901296</title>\n<ellipse fill=\"none\" stroke=\"black\" cx=\"854.99\" cy=\"-238.97\" rx=\"27\" ry=\"18\"/>\n<text text-anchor=\"middle\" x=\"854.99\" y=\"-235.27\" font-family=\"Times,serif\" font-size=\"14.00\">C12</text>\n</g>\n<!-- 140149716902880&#45;&#45;140149716901296 -->\n<g id=\"edge12\" class=\"edge\">\n<title>140149716902880&#45;&#45;140149716901296</title>\n<path fill=\"none\" stroke=\"black\" d=\"M812.84,-215.5C819.73,-219.34 827.38,-223.6 834.25,-227.42\"/>\n</g>\n<!-- 140152301807184 -->\n<g id=\"node14\" class=\"node\">\n<title>140152301807184</title>\n<ellipse fill=\"none\" stroke=\"black\" cx=\"915.34\" cy=\"-278.81\" rx=\"27\" ry=\"18\"/>\n<text text-anchor=\"middle\" x=\"915.34\" y=\"-275.11\" font-family=\"Times,serif\" font-size=\"14.00\">C13</text>\n</g>\n<!-- 140149716901296&#45;&#45;140152301807184 -->\n<g id=\"edge13\" class=\"edge\">\n<title>140149716901296&#45;&#45;140152301807184</title>\n<path fill=\"none\" stroke=\"black\" d=\"M874.42,-251.79C881.31,-256.34 889.06,-261.46 895.95,-266.01\"/>\n</g>\n<!-- 140152301803488 -->\n<g id=\"node15\" class=\"node\">\n<title>140152301803488</title>\n<ellipse fill=\"none\" stroke=\"black\" cx=\"972.5\" cy=\"-323.07\" rx=\"27\" ry=\"18\"/>\n<text text-anchor=\"middle\" x=\"972.5\" y=\"-319.37\" font-family=\"Times,serif\" font-size=\"14.00\">C14</text>\n</g>\n<!-- 140152301807184&#45;&#45;140152301803488 -->\n<g id=\"edge14\" class=\"edge\">\n<title>140152301807184&#45;&#45;140152301803488</title>\n<path fill=\"none\" stroke=\"black\" d=\"M933.12,-292.57C939.93,-297.85 947.71,-303.87 954.54,-309.17\"/>\n</g>\n<!-- 140152301803488_1 -->\n<!-- 140152301803488_1&#45;&#45;140152301803488 -->\n<g id=\"edge15\" class=\"edge\">\n<title>140152301803488_1&#45;&#45;140152301803488</title>\n<path fill=\"none\" stroke=\"black\" d=\"M1012.65,-351.72C1005.8,-346.83 998.03,-341.29 991.17,-336.39\"/>\n</g>\n</g>\n</svg>\n",
            "text/plain": [
              "<graphviz.graphs.Graph at 0x7f7726177520>"
            ]
          },
          "metadata": {},
          "execution_count": 7
        }
      ]
    },
    {
      "cell_type": "code",
      "source": [
        "# Another way is to contract the input tensors with the mps while connecting them\n",
        "\n",
        "input_tensors = []\n",
        "mps = []\n",
        "cntrct = []\n",
        "\n",
        "# creating data tensor and mps nodes and connecting to each other\n",
        "for iz in range(L):\n",
        "  input_tensors.append(tn.Node(input_feature_map[iz], name = f'I{iz}'))\n",
        "  mps.append(tn.Node(weights[iz], name=f'M{iz}'))\n",
        "\n",
        "  input_tensors[iz][0]^mps[iz][0]\n",
        "  cntrct.append(tn.Node(contract_data(input_tensors[iz], mps[iz]), name=f'C{iz}'))\n",
        "\n",
        "\n",
        "tn.to_graphviz(cntrct)"
      ],
      "metadata": {
        "colab": {
          "base_uri": "https://localhost:8080/",
          "height": 909
        },
        "id": "oRbQFxFgsTuR",
        "outputId": "93241db8-199d-42ca-bdd5-77c19505b3cb"
      },
      "execution_count": 8,
      "outputs": [
        {
          "output_type": "execute_result",
          "data": {
            "image/svg+xml": "<?xml version=\"1.0\" encoding=\"UTF-8\" standalone=\"no\"?>\n<!DOCTYPE svg PUBLIC \"-//W3C//DTD SVG 1.1//EN\"\n \"http://www.w3.org/Graphics/SVG/1.1/DTD/svg11.dtd\">\n<!-- Generated by graphviz version 2.43.0 (0)\n -->\n<!-- Title: G Pages: 1 -->\n<svg width=\"642pt\" height=\"666pt\"\n viewBox=\"0.00 0.00 641.85 665.63\" xmlns=\"http://www.w3.org/2000/svg\" xmlns:xlink=\"http://www.w3.org/1999/xlink\">\n<g id=\"graph0\" class=\"graph\" transform=\"scale(1 1) rotate(0) translate(4 661.63)\">\n<title>G</title>\n<polygon fill=\"white\" stroke=\"transparent\" points=\"-4,4 -4,-661.63 637.85,-661.63 637.85,4 -4,4\"/>\n<!-- 140150174925488 -->\n<g id=\"node1\" class=\"node\">\n<title>140150174925488</title>\n<ellipse fill=\"none\" stroke=\"black\" cx=\"75\" cy=\"-108.64\" rx=\"27\" ry=\"18\"/>\n<text text-anchor=\"middle\" x=\"75\" y=\"-104.94\" font-family=\"Times,serif\" font-size=\"14.00\">C0</text>\n</g>\n<!-- 140149717181120 -->\n<g id=\"node2\" class=\"node\">\n<title>140149717181120</title>\n<ellipse fill=\"none\" stroke=\"black\" cx=\"226.96\" cy=\"-262.21\" rx=\"27\" ry=\"18\"/>\n<text text-anchor=\"middle\" x=\"226.96\" y=\"-258.51\" font-family=\"Times,serif\" font-size=\"14.00\">C1</text>\n</g>\n<!-- 140149717180784 -->\n<g id=\"node3\" class=\"node\">\n<title>140149717180784</title>\n<ellipse fill=\"none\" stroke=\"black\" cx=\"354.96\" cy=\"-294.21\" rx=\"27\" ry=\"18\"/>\n<text text-anchor=\"middle\" x=\"354.96\" y=\"-290.51\" font-family=\"Times,serif\" font-size=\"14.00\">C2</text>\n</g>\n<!-- 140149717183232 -->\n<g id=\"node4\" class=\"node\">\n<title>140149717183232</title>\n<ellipse fill=\"none\" stroke=\"black\" cx=\"210.96\" cy=\"-438.21\" rx=\"27\" ry=\"18\"/>\n<text text-anchor=\"middle\" x=\"210.96\" y=\"-434.51\" font-family=\"Times,serif\" font-size=\"14.00\">C3</text>\n</g>\n<!-- 140149717185488 -->\n<g id=\"node5\" class=\"node\">\n<title>140149717185488</title>\n<ellipse fill=\"none\" stroke=\"black\" cx=\"338.96\" cy=\"-454.21\" rx=\"27\" ry=\"18\"/>\n<text text-anchor=\"middle\" x=\"338.96\" y=\"-450.51\" font-family=\"Times,serif\" font-size=\"14.00\">C4</text>\n</g>\n<!-- 140149717186496 -->\n<g id=\"node6\" class=\"node\">\n<title>140149717186496</title>\n<ellipse fill=\"none\" stroke=\"black\" cx=\"402.96\" cy=\"-214.21\" rx=\"27\" ry=\"18\"/>\n<text text-anchor=\"middle\" x=\"402.96\" y=\"-210.51\" font-family=\"Times,serif\" font-size=\"14.00\">C5</text>\n</g>\n<!-- 140149717187552 -->\n<g id=\"node7\" class=\"node\">\n<title>140149717187552</title>\n<ellipse fill=\"none\" stroke=\"black\" cx=\"162.96\" cy=\"-518.21\" rx=\"27\" ry=\"18\"/>\n<text text-anchor=\"middle\" x=\"162.96\" y=\"-514.51\" font-family=\"Times,serif\" font-size=\"14.00\">C6</text>\n</g>\n<!-- 140149717188320 -->\n<g id=\"node8\" class=\"node\">\n<title>140149717188320</title>\n<ellipse fill=\"none\" stroke=\"black\" cx=\"466.96\" cy=\"-486.21\" rx=\"27\" ry=\"18\"/>\n<text text-anchor=\"middle\" x=\"466.96\" y=\"-482.51\" font-family=\"Times,serif\" font-size=\"14.00\">C7</text>\n</g>\n<!-- 140149717186688 -->\n<g id=\"node9\" class=\"node\">\n<title>140149717186688</title>\n<ellipse fill=\"none\" stroke=\"black\" cx=\"98.96\" cy=\"-246.21\" rx=\"27\" ry=\"18\"/>\n<text text-anchor=\"middle\" x=\"98.96\" y=\"-242.51\" font-family=\"Times,serif\" font-size=\"14.00\">C8</text>\n</g>\n<!-- 140149717184912 -->\n<g id=\"node10\" class=\"node\">\n<title>140149717184912</title>\n<ellipse fill=\"none\" stroke=\"black\" cx=\"482.96\" cy=\"-150.21\" rx=\"27\" ry=\"18\"/>\n<text text-anchor=\"middle\" x=\"482.96\" y=\"-146.51\" font-family=\"Times,serif\" font-size=\"14.00\">C9</text>\n</g>\n<!-- 140149717352608 -->\n<g id=\"node11\" class=\"node\">\n<title>140149717352608</title>\n<ellipse fill=\"none\" stroke=\"black\" cx=\"514.96\" cy=\"-406.21\" rx=\"27\" ry=\"18\"/>\n<text text-anchor=\"middle\" x=\"514.96\" y=\"-402.51\" font-family=\"Times,serif\" font-size=\"14.00\">C10</text>\n</g>\n<!-- 140149717354864 -->\n<g id=\"node12\" class=\"node\">\n<title>140149717354864</title>\n<ellipse fill=\"none\" stroke=\"black\" cx=\"82.96\" cy=\"-582.21\" rx=\"27\" ry=\"18\"/>\n<text text-anchor=\"middle\" x=\"82.96\" y=\"-578.51\" font-family=\"Times,serif\" font-size=\"14.00\">C11</text>\n</g>\n<!-- 140149717355920 -->\n<g id=\"node13\" class=\"node\">\n<title>140149717355920</title>\n<ellipse fill=\"none\" stroke=\"black\" cx=\"50.96\" cy=\"-326.21\" rx=\"27\" ry=\"18\"/>\n<text text-anchor=\"middle\" x=\"50.96\" y=\"-322.51\" font-family=\"Times,serif\" font-size=\"14.00\">C12</text>\n</g>\n<!-- 140149717356976 -->\n<g id=\"node14\" class=\"node\">\n<title>140149717356976</title>\n<ellipse fill=\"none\" stroke=\"black\" cx=\"242.96\" cy=\"-102.21\" rx=\"27\" ry=\"18\"/>\n<text text-anchor=\"middle\" x=\"242.96\" y=\"-98.51\" font-family=\"Times,serif\" font-size=\"14.00\">C13</text>\n</g>\n<!-- 140149717358032 -->\n<g id=\"node15\" class=\"node\">\n<title>140149717358032</title>\n<ellipse fill=\"none\" stroke=\"black\" cx=\"562.96\" cy=\"-86.21\" rx=\"27\" ry=\"18\"/>\n<text text-anchor=\"middle\" x=\"562.96\" y=\"-82.51\" font-family=\"Times,serif\" font-size=\"14.00\">C14</text>\n</g>\n<!-- 140150174925488_0 -->\n<!-- 140150174925488_0&#45;&#45;140150174925488 -->\n<g id=\"edge1\" class=\"edge\">\n<title>140150174925488_0&#45;&#45;140150174925488</title>\n<path fill=\"none\" stroke=\"black\" d=\"M119.69,-101.96C113.84,-102.84 107.64,-103.76 101.78,-104.64\"/>\n</g>\n<!-- 140149717181120_0 -->\n<!-- 140149717181120_0&#45;&#45;140149717181120 -->\n<g id=\"edge2\" class=\"edge\">\n<title>140149717181120_0&#45;&#45;140149717181120</title>\n<path fill=\"none\" stroke=\"black\" d=\"M258.39,-303.33C252.41,-295.5 245.26,-286.15 239.3,-278.35\"/>\n</g>\n<!-- 140149717181120_1 -->\n<!-- 140149717181120_1&#45;&#45;140149717181120 -->\n<g id=\"edge3\" class=\"edge\">\n<title>140149717181120_1&#45;&#45;140149717181120</title>\n<path fill=\"none\" stroke=\"black\" d=\"M209.17,-211.56C212.72,-221.67 217.17,-234.33 220.73,-244.46\"/>\n</g>\n<!-- 140149717180784_0 -->\n<!-- 140149717180784_0&#45;&#45;140149717180784 -->\n<g id=\"edge4\" class=\"edge\">\n<title>140149717180784_0&#45;&#45;140149717180784</title>\n<path fill=\"none\" stroke=\"black\" d=\"M386.39,-335.33C380.41,-327.5 373.26,-318.15 367.3,-310.35\"/>\n</g>\n<!-- 140149717180784_1 -->\n<!-- 140149717180784_1&#45;&#45;140149717180784 -->\n<g id=\"edge5\" class=\"edge\">\n<title>140149717180784_1&#45;&#45;140149717180784</title>\n<path fill=\"none\" stroke=\"black\" d=\"M337.17,-243.56C340.72,-253.67 345.17,-266.33 348.73,-276.46\"/>\n</g>\n<!-- 140149717183232_0 -->\n<!-- 140149717183232_0&#45;&#45;140149717183232 -->\n<g id=\"edge6\" class=\"edge\">\n<title>140149717183232_0&#45;&#45;140149717183232</title>\n<path fill=\"none\" stroke=\"black\" d=\"M242.39,-479.33C236.41,-471.5 229.26,-462.15 223.3,-454.35\"/>\n</g>\n<!-- 140149717183232_1 -->\n<!-- 140149717183232_1&#45;&#45;140149717183232 -->\n<g id=\"edge7\" class=\"edge\">\n<title>140149717183232_1&#45;&#45;140149717183232</title>\n<path fill=\"none\" stroke=\"black\" d=\"M193.17,-387.56C196.72,-397.67 201.17,-410.33 204.73,-420.46\"/>\n</g>\n<!-- 140149717185488_0 -->\n<!-- 140149717185488_0&#45;&#45;140149717185488 -->\n<g id=\"edge8\" class=\"edge\">\n<title>140149717185488_0&#45;&#45;140149717185488</title>\n<path fill=\"none\" stroke=\"black\" d=\"M370.39,-495.33C364.41,-487.5 357.26,-478.15 351.3,-470.35\"/>\n</g>\n<!-- 140149717185488_1 -->\n<!-- 140149717185488_1&#45;&#45;140149717185488 -->\n<g id=\"edge9\" class=\"edge\">\n<title>140149717185488_1&#45;&#45;140149717185488</title>\n<path fill=\"none\" stroke=\"black\" d=\"M321.17,-403.56C324.72,-413.67 329.17,-426.33 332.73,-436.46\"/>\n</g>\n<!-- 140149717186496_0 -->\n<!-- 140149717186496_0&#45;&#45;140149717186496 -->\n<g id=\"edge10\" class=\"edge\">\n<title>140149717186496_0&#45;&#45;140149717186496</title>\n<path fill=\"none\" stroke=\"black\" d=\"M434.39,-255.33C428.41,-247.5 421.26,-238.15 415.3,-230.35\"/>\n</g>\n<!-- 140149717186496_1 -->\n<!-- 140149717186496_1&#45;&#45;140149717186496 -->\n<g id=\"edge11\" class=\"edge\">\n<title>140149717186496_1&#45;&#45;140149717186496</title>\n<path fill=\"none\" stroke=\"black\" d=\"M385.17,-163.56C388.72,-173.67 393.17,-186.33 396.73,-196.46\"/>\n</g>\n<!-- 140149717187552_0 -->\n<!-- 140149717187552_0&#45;&#45;140149717187552 -->\n<g id=\"edge12\" class=\"edge\">\n<title>140149717187552_0&#45;&#45;140149717187552</title>\n<path fill=\"none\" stroke=\"black\" d=\"M194.39,-559.33C188.41,-551.5 181.26,-542.15 175.3,-534.35\"/>\n</g>\n<!-- 140149717187552_1 -->\n<!-- 140149717187552_1&#45;&#45;140149717187552 -->\n<g id=\"edge13\" class=\"edge\">\n<title>140149717187552_1&#45;&#45;140149717187552</title>\n<path fill=\"none\" stroke=\"black\" d=\"M145.17,-467.56C148.72,-477.67 153.17,-490.33 156.73,-500.46\"/>\n</g>\n<!-- 140149717188320_0 -->\n<!-- 140149717188320_0&#45;&#45;140149717188320 -->\n<g id=\"edge14\" class=\"edge\">\n<title>140149717188320_0&#45;&#45;140149717188320</title>\n<path fill=\"none\" stroke=\"black\" d=\"M498.39,-527.33C492.41,-519.5 485.26,-510.15 479.3,-502.35\"/>\n</g>\n<!-- 140149717188320_1 -->\n<!-- 140149717188320_1&#45;&#45;140149717188320 -->\n<g id=\"edge15\" class=\"edge\">\n<title>140149717188320_1&#45;&#45;140149717188320</title>\n<path fill=\"none\" stroke=\"black\" d=\"M449.17,-435.56C452.72,-445.67 457.17,-458.33 460.73,-468.46\"/>\n</g>\n<!-- 140149717186688_0 -->\n<!-- 140149717186688_0&#45;&#45;140149717186688 -->\n<g id=\"edge16\" class=\"edge\">\n<title>140149717186688_0&#45;&#45;140149717186688</title>\n<path fill=\"none\" stroke=\"black\" d=\"M130.39,-287.33C124.41,-279.5 117.26,-270.15 111.3,-262.35\"/>\n</g>\n<!-- 140149717186688_1 -->\n<!-- 140149717186688_1&#45;&#45;140149717186688 -->\n<g id=\"edge17\" class=\"edge\">\n<title>140149717186688_1&#45;&#45;140149717186688</title>\n<path fill=\"none\" stroke=\"black\" d=\"M81.17,-195.56C84.72,-205.67 89.17,-218.33 92.73,-228.46\"/>\n</g>\n<!-- 140149717184912_0 -->\n<!-- 140149717184912_0&#45;&#45;140149717184912 -->\n<g id=\"edge18\" class=\"edge\">\n<title>140149717184912_0&#45;&#45;140149717184912</title>\n<path fill=\"none\" stroke=\"black\" d=\"M514.39,-191.33C508.41,-183.5 501.26,-174.15 495.3,-166.35\"/>\n</g>\n<!-- 140149717184912_1 -->\n<!-- 140149717184912_1&#45;&#45;140149717184912 -->\n<g id=\"edge19\" class=\"edge\">\n<title>140149717184912_1&#45;&#45;140149717184912</title>\n<path fill=\"none\" stroke=\"black\" d=\"M465.17,-99.56C468.72,-109.67 473.17,-122.33 476.73,-132.46\"/>\n</g>\n<!-- 140149717352608_0 -->\n<!-- 140149717352608_0&#45;&#45;140149717352608 -->\n<g id=\"edge20\" class=\"edge\">\n<title>140149717352608_0&#45;&#45;140149717352608</title>\n<path fill=\"none\" stroke=\"black\" d=\"M546.39,-447.33C540.41,-439.5 533.26,-430.15 527.3,-422.35\"/>\n</g>\n<!-- 140149717352608_1 -->\n<!-- 140149717352608_1&#45;&#45;140149717352608 -->\n<g id=\"edge21\" class=\"edge\">\n<title>140149717352608_1&#45;&#45;140149717352608</title>\n<path fill=\"none\" stroke=\"black\" d=\"M497.17,-355.56C500.72,-365.67 505.17,-378.33 508.73,-388.46\"/>\n</g>\n<!-- 140149717354864_0 -->\n<!-- 140149717354864_0&#45;&#45;140149717354864 -->\n<g id=\"edge22\" class=\"edge\">\n<title>140149717354864_0&#45;&#45;140149717354864</title>\n<path fill=\"none\" stroke=\"black\" d=\"M114.39,-623.33C108.41,-615.5 101.26,-606.15 95.3,-598.35\"/>\n</g>\n<!-- 140149717354864_1 -->\n<!-- 140149717354864_1&#45;&#45;140149717354864 -->\n<g id=\"edge23\" class=\"edge\">\n<title>140149717354864_1&#45;&#45;140149717354864</title>\n<path fill=\"none\" stroke=\"black\" d=\"M65.17,-531.56C68.72,-541.67 73.17,-554.33 76.73,-564.46\"/>\n</g>\n<!-- 140149717355920_0 -->\n<!-- 140149717355920_0&#45;&#45;140149717355920 -->\n<g id=\"edge24\" class=\"edge\">\n<title>140149717355920_0&#45;&#45;140149717355920</title>\n<path fill=\"none\" stroke=\"black\" d=\"M82.39,-367.33C76.41,-359.5 69.26,-350.15 63.3,-342.35\"/>\n</g>\n<!-- 140149717355920_1 -->\n<!-- 140149717355920_1&#45;&#45;140149717355920 -->\n<g id=\"edge25\" class=\"edge\">\n<title>140149717355920_1&#45;&#45;140149717355920</title>\n<path fill=\"none\" stroke=\"black\" d=\"M33.17,-275.56C36.72,-285.67 41.17,-298.33 44.73,-308.46\"/>\n</g>\n<!-- 140149717356976_0 -->\n<!-- 140149717356976_0&#45;&#45;140149717356976 -->\n<g id=\"edge26\" class=\"edge\">\n<title>140149717356976_0&#45;&#45;140149717356976</title>\n<path fill=\"none\" stroke=\"black\" d=\"M274.39,-143.33C268.41,-135.5 261.26,-126.15 255.3,-118.35\"/>\n</g>\n<!-- 140149717356976_1 -->\n<!-- 140149717356976_1&#45;&#45;140149717356976 -->\n<g id=\"edge27\" class=\"edge\">\n<title>140149717356976_1&#45;&#45;140149717356976</title>\n<path fill=\"none\" stroke=\"black\" d=\"M225.17,-51.56C228.72,-61.67 233.17,-74.33 236.73,-84.46\"/>\n</g>\n<!-- 140149717358032_0 -->\n<!-- 140149717358032_0&#45;&#45;140149717358032 -->\n<g id=\"edge28\" class=\"edge\">\n<title>140149717358032_0&#45;&#45;140149717358032</title>\n<path fill=\"none\" stroke=\"black\" d=\"M594.39,-127.33C588.41,-119.5 581.26,-110.15 575.3,-102.35\"/>\n</g>\n<!-- 140149717358032_1 -->\n<!-- 140149717358032_1&#45;&#45;140149717358032 -->\n<g id=\"edge29\" class=\"edge\">\n<title>140149717358032_1&#45;&#45;140149717358032</title>\n<path fill=\"none\" stroke=\"black\" d=\"M545.17,-35.56C548.72,-45.67 553.17,-58.33 556.73,-68.46\"/>\n</g>\n</g>\n</svg>\n",
            "text/plain": [
              "<graphviz.graphs.Graph at 0x7f7726176200>"
            ]
          },
          "metadata": {},
          "execution_count": 8
        }
      ]
    },
    {
      "cell_type": "code",
      "source": [
        "# connecting the mps\n",
        "\n",
        "mps_new = connect_mps(cntrct, num_inds=2)\n",
        "tn.to_graphviz(mps_new)"
      ],
      "metadata": {
        "colab": {
          "base_uri": "https://localhost:8080/",
          "height": 542
        },
        "id": "8RSSGb8_u-v9",
        "outputId": "d5b1addf-3ee4-45f9-e86a-081e2bce8046"
      },
      "execution_count": 9,
      "outputs": [
        {
          "output_type": "execute_result",
          "data": {
            "image/svg+xml": "<?xml version=\"1.0\" encoding=\"UTF-8\" standalone=\"no\"?>\n<!DOCTYPE svg PUBLIC \"-//W3C//DTD SVG 1.1//EN\"\n \"http://www.w3.org/Graphics/SVG/1.1/DTD/svg11.dtd\">\n<!-- Generated by graphviz version 2.43.0 (0)\n -->\n<!-- Title: G Pages: 1 -->\n<svg width=\"1066pt\" height=\"391pt\"\n viewBox=\"0.00 0.00 1066.24 390.99\" xmlns=\"http://www.w3.org/2000/svg\" xmlns:xlink=\"http://www.w3.org/1999/xlink\">\n<g id=\"graph0\" class=\"graph\" transform=\"scale(1 1) rotate(0) translate(4 386.99)\">\n<title>G</title>\n<polygon fill=\"white\" stroke=\"transparent\" points=\"-4,4 -4,-386.99 1062.24,-386.99 1062.24,4 -4,4\"/>\n<!-- 140150174925488 -->\n<g id=\"node1\" class=\"node\">\n<title>140150174925488</title>\n<ellipse fill=\"none\" stroke=\"black\" cx=\"27\" cy=\"-18\" rx=\"27\" ry=\"18\"/>\n<text text-anchor=\"middle\" x=\"27\" y=\"-14.3\" font-family=\"Times,serif\" font-size=\"14.00\">C0</text>\n</g>\n<!-- 140149717181120 -->\n<g id=\"node2\" class=\"node\">\n<title>140149717181120</title>\n<ellipse fill=\"none\" stroke=\"black\" cx=\"99.05\" cy=\"-21.57\" rx=\"27\" ry=\"18\"/>\n<text text-anchor=\"middle\" x=\"99.05\" y=\"-17.87\" font-family=\"Times,serif\" font-size=\"14.00\">C1</text>\n</g>\n<!-- 140150174925488&#45;&#45;140149717181120 -->\n<g id=\"edge1\" class=\"edge\">\n<title>140150174925488&#45;&#45;140149717181120</title>\n<path fill=\"none\" stroke=\"black\" d=\"M54.24,-19.35C59.98,-19.63 66.03,-19.93 71.77,-20.22\"/>\n</g>\n<!-- 140149717180784 -->\n<g id=\"node3\" class=\"node\">\n<title>140149717180784</title>\n<ellipse fill=\"none\" stroke=\"black\" cx=\"171.33\" cy=\"-23.06\" rx=\"27\" ry=\"18\"/>\n<text text-anchor=\"middle\" x=\"171.33\" y=\"-19.36\" font-family=\"Times,serif\" font-size=\"14.00\">C2</text>\n</g>\n<!-- 140149717181120&#45;&#45;140149717180784 -->\n<g id=\"edge2\" class=\"edge\">\n<title>140149717181120&#45;&#45;140149717180784</title>\n<path fill=\"none\" stroke=\"black\" d=\"M126.38,-22.14C132.13,-22.25 138.21,-22.38 143.97,-22.5\"/>\n</g>\n<!-- 140149717183232 -->\n<g id=\"node4\" class=\"node\">\n<title>140149717183232</title>\n<ellipse fill=\"none\" stroke=\"black\" cx=\"242.52\" cy=\"-35.54\" rx=\"27\" ry=\"18\"/>\n<text text-anchor=\"middle\" x=\"242.52\" y=\"-31.84\" font-family=\"Times,serif\" font-size=\"14.00\">C3</text>\n</g>\n<!-- 140149717180784&#45;&#45;140149717183232 -->\n<g id=\"edge3\" class=\"edge\">\n<title>140149717180784&#45;&#45;140149717183232</title>\n<path fill=\"none\" stroke=\"black\" d=\"M197.84,-27.71C203.85,-28.76 210.23,-29.88 216.23,-30.93\"/>\n</g>\n<!-- 140149717185488 -->\n<g id=\"node5\" class=\"node\">\n<title>140149717185488</title>\n<ellipse fill=\"none\" stroke=\"black\" cx=\"314.18\" cy=\"-44.76\" rx=\"27\" ry=\"18\"/>\n<text text-anchor=\"middle\" x=\"314.18\" y=\"-41.06\" font-family=\"Times,serif\" font-size=\"14.00\">C4</text>\n</g>\n<!-- 140149717183232&#45;&#45;140149717185488 -->\n<g id=\"edge4\" class=\"edge\">\n<title>140149717183232&#45;&#45;140149717185488</title>\n<path fill=\"none\" stroke=\"black\" d=\"M269.2,-38.97C275.09,-39.73 281.33,-40.53 287.23,-41.29\"/>\n</g>\n<!-- 140149717186496 -->\n<g id=\"node6\" class=\"node\">\n<title>140149717186496</title>\n<ellipse fill=\"none\" stroke=\"black\" cx=\"385.71\" cy=\"-55.31\" rx=\"27\" ry=\"18\"/>\n<text text-anchor=\"middle\" x=\"385.71\" y=\"-51.61\" font-family=\"Times,serif\" font-size=\"14.00\">C5</text>\n</g>\n<!-- 140149717185488&#45;&#45;140149717186496 -->\n<g id=\"edge5\" class=\"edge\">\n<title>140149717185488&#45;&#45;140149717186496</title>\n<path fill=\"none\" stroke=\"black\" d=\"M340.81,-48.69C346.85,-49.58 353.26,-50.53 359.29,-51.42\"/>\n</g>\n<!-- 140149717187552 -->\n<g id=\"node7\" class=\"node\">\n<title>140149717187552</title>\n<ellipse fill=\"none\" stroke=\"black\" cx=\"456.27\" cy=\"-71.27\" rx=\"27\" ry=\"18\"/>\n<text text-anchor=\"middle\" x=\"456.27\" y=\"-67.57\" font-family=\"Times,serif\" font-size=\"14.00\">C6</text>\n</g>\n<!-- 140149717186496&#45;&#45;140149717187552 -->\n<g id=\"edge6\" class=\"edge\">\n<title>140149717186496&#45;&#45;140149717187552</title>\n<path fill=\"none\" stroke=\"black\" d=\"M411.59,-61.16C417.72,-62.55 424.27,-64.03 430.4,-65.42\"/>\n</g>\n<!-- 140149717188320 -->\n<g id=\"node8\" class=\"node\">\n<title>140149717188320</title>\n<ellipse fill=\"none\" stroke=\"black\" cx=\"525.97\" cy=\"-90.68\" rx=\"27\" ry=\"18\"/>\n<text text-anchor=\"middle\" x=\"525.97\" y=\"-86.98\" font-family=\"Times,serif\" font-size=\"14.00\">C7</text>\n</g>\n<!-- 140149717187552&#45;&#45;140149717188320 -->\n<g id=\"edge7\" class=\"edge\">\n<title>140149717187552&#45;&#45;140149717188320</title>\n<path fill=\"none\" stroke=\"black\" d=\"M481.44,-78.28C487.67,-80.02 494.36,-81.88 500.61,-83.62\"/>\n</g>\n<!-- 140149717186688 -->\n<g id=\"node9\" class=\"node\">\n<title>140149717186688</title>\n<ellipse fill=\"none\" stroke=\"black\" cx=\"594.41\" cy=\"-114.16\" rx=\"27\" ry=\"18\"/>\n<text text-anchor=\"middle\" x=\"594.41\" y=\"-110.46\" font-family=\"Times,serif\" font-size=\"14.00\">C8</text>\n</g>\n<!-- 140149717188320&#45;&#45;140149717186688 -->\n<g id=\"edge8\" class=\"edge\">\n<title>140149717188320&#45;&#45;140149717186688</title>\n<path fill=\"none\" stroke=\"black\" d=\"M550.29,-99.02C556.74,-101.24 563.71,-103.63 570.16,-105.84\"/>\n</g>\n<!-- 140149717184912 -->\n<g id=\"node10\" class=\"node\">\n<title>140149717184912</title>\n<ellipse fill=\"none\" stroke=\"black\" cx=\"661.95\" cy=\"-140.09\" rx=\"27\" ry=\"18\"/>\n<text text-anchor=\"middle\" x=\"661.95\" y=\"-136.39\" font-family=\"Times,serif\" font-size=\"14.00\">C9</text>\n</g>\n<!-- 140149717186688&#45;&#45;140149717184912 -->\n<g id=\"edge9\" class=\"edge\">\n<title>140149717186688&#45;&#45;140149717184912</title>\n<path fill=\"none\" stroke=\"black\" d=\"M618.03,-123.23C624.57,-125.74 631.68,-128.47 638.23,-130.98\"/>\n</g>\n<!-- 140149717352608 -->\n<g id=\"node11\" class=\"node\">\n<title>140149717352608</title>\n<ellipse fill=\"none\" stroke=\"black\" cx=\"727.88\" cy=\"-169.9\" rx=\"27\" ry=\"18\"/>\n<text text-anchor=\"middle\" x=\"727.88\" y=\"-166.2\" font-family=\"Times,serif\" font-size=\"14.00\">C10</text>\n</g>\n<!-- 140149717184912&#45;&#45;140149717352608 -->\n<g id=\"edge10\" class=\"edge\">\n<title>140149717184912&#45;&#45;140149717352608</title>\n<path fill=\"none\" stroke=\"black\" d=\"M684.64,-150.35C691.34,-153.38 698.68,-156.7 705.37,-159.73\"/>\n</g>\n<!-- 140149717354864 -->\n<g id=\"node12\" class=\"node\">\n<title>140149717354864</title>\n<ellipse fill=\"none\" stroke=\"black\" cx=\"791.79\" cy=\"-203.79\" rx=\"27\" ry=\"18\"/>\n<text text-anchor=\"middle\" x=\"791.79\" y=\"-200.09\" font-family=\"Times,serif\" font-size=\"14.00\">C11</text>\n</g>\n<!-- 140149717352608&#45;&#45;140149717354864 -->\n<g id=\"edge11\" class=\"edge\">\n<title>140149717352608&#45;&#45;140149717354864</title>\n<path fill=\"none\" stroke=\"black\" d=\"M749.16,-181.19C755.99,-184.81 763.55,-188.81 770.39,-192.44\"/>\n</g>\n<!-- 140149717355920 -->\n<g id=\"node13\" class=\"node\">\n<title>140149717355920</title>\n<ellipse fill=\"none\" stroke=\"black\" cx=\"854.99\" cy=\"-238.97\" rx=\"27\" ry=\"18\"/>\n<text text-anchor=\"middle\" x=\"854.99\" y=\"-235.27\" font-family=\"Times,serif\" font-size=\"14.00\">C12</text>\n</g>\n<!-- 140149717354864&#45;&#45;140149717355920 -->\n<g id=\"edge12\" class=\"edge\">\n<title>140149717354864&#45;&#45;140149717355920</title>\n<path fill=\"none\" stroke=\"black\" d=\"M812.84,-215.5C819.73,-219.34 827.38,-223.6 834.25,-227.42\"/>\n</g>\n<!-- 140149717356976 -->\n<g id=\"node14\" class=\"node\">\n<title>140149717356976</title>\n<ellipse fill=\"none\" stroke=\"black\" cx=\"915.34\" cy=\"-278.81\" rx=\"27\" ry=\"18\"/>\n<text text-anchor=\"middle\" x=\"915.34\" y=\"-275.11\" font-family=\"Times,serif\" font-size=\"14.00\">C13</text>\n</g>\n<!-- 140149717355920&#45;&#45;140149717356976 -->\n<g id=\"edge13\" class=\"edge\">\n<title>140149717355920&#45;&#45;140149717356976</title>\n<path fill=\"none\" stroke=\"black\" d=\"M874.42,-251.79C881.31,-256.34 889.06,-261.46 895.95,-266.01\"/>\n</g>\n<!-- 140149717358032 -->\n<g id=\"node15\" class=\"node\">\n<title>140149717358032</title>\n<ellipse fill=\"none\" stroke=\"black\" cx=\"972.5\" cy=\"-323.07\" rx=\"27\" ry=\"18\"/>\n<text text-anchor=\"middle\" x=\"972.5\" y=\"-319.37\" font-family=\"Times,serif\" font-size=\"14.00\">C14</text>\n</g>\n<!-- 140149717356976&#45;&#45;140149717358032 -->\n<g id=\"edge14\" class=\"edge\">\n<title>140149717356976&#45;&#45;140149717358032</title>\n<path fill=\"none\" stroke=\"black\" d=\"M933.12,-292.57C939.93,-297.85 947.71,-303.87 954.54,-309.17\"/>\n</g>\n<!-- 140149717358032_1 -->\n<!-- 140149717358032_1&#45;&#45;140149717358032 -->\n<g id=\"edge15\" class=\"edge\">\n<title>140149717358032_1&#45;&#45;140149717358032</title>\n<path fill=\"none\" stroke=\"black\" d=\"M1012.65,-351.72C1005.8,-346.83 998.03,-341.29 991.17,-336.39\"/>\n</g>\n</g>\n</svg>\n",
            "text/plain": [
              "<graphviz.graphs.Graph at 0x7f77261ba9e0>"
            ]
          },
          "metadata": {},
          "execution_count": 9
        }
      ]
    },
    {
      "cell_type": "code",
      "source": [
        "# Now we are at the same stage in both the approaches, now let's contract the nodes\n",
        "while len(mps_new)!=3 and len(mps_new)!=2 :\n",
        "\n",
        "        # steps = [2*n for n in range(len(mps_new)//2)]\n",
        "\n",
        "        if len(mps_new)%2==1:\n",
        "        # print(steps)\n",
        "          mps_new = [tn.Node((mps_new[iz]@mps_new[iz+1]), name = f'R{iz}') for iz in range(0, len(mps_new)-1, 2)] + [tn.Node((mps_new[len(mps_new)-1]))]\n",
        "\n",
        "        else:\n",
        "          mps_new = [tn.Node((mps_new[iz]@mps_new[iz+1]), name = f'R{iz}') for iz in range(0, len(mps_new)-2, 2)]+[tn.Node((mps_new[len(mps_new)-2])), tn.Node((mps_new[len(mps_new)-1]))]\n",
        "\n",
        "        # print('mps_done',len(mps_new))\n",
        "\n",
        "        mps_new = connect_mps(mps_new, num_inds=2)\n"
      ],
      "metadata": {
        "id": "TSYR9P_FvOWM"
      },
      "execution_count": 10,
      "outputs": []
    },
    {
      "cell_type": "code",
      "source": [
        "tn.to_graphviz(mps_new)"
      ],
      "metadata": {
        "colab": {
          "base_uri": "https://localhost:8080/",
          "height": 365
        },
        "id": "PXQqB8PZv-dr",
        "outputId": "a95d9d9b-40c7-4560-e5e5-16f3b8597398"
      },
      "execution_count": 11,
      "outputs": [
        {
          "output_type": "execute_result",
          "data": {
            "image/svg+xml": "<?xml version=\"1.0\" encoding=\"UTF-8\" standalone=\"no\"?>\n<!DOCTYPE svg PUBLIC \"-//W3C//DTD SVG 1.1//EN\"\n \"http://www.w3.org/Graphics/SVG/1.1/DTD/svg11.dtd\">\n<!-- Generated by graphviz version 2.43.0 (0)\n -->\n<!-- Title: G Pages: 1 -->\n<svg width=\"78pt\" height=\"258pt\"\n viewBox=\"0.00 0.00 78.07 258.30\" xmlns=\"http://www.w3.org/2000/svg\" xmlns:xlink=\"http://www.w3.org/1999/xlink\">\n<g id=\"graph0\" class=\"graph\" transform=\"scale(1 1) rotate(0) translate(4 254.3)\">\n<title>G</title>\n<polygon fill=\"white\" stroke=\"transparent\" points=\"-4,4 -4,-254.3 74.07,-254.3 74.07,4 -4,4\"/>\n<!-- 140149717353280 -->\n<g id=\"node1\" class=\"node\">\n<title>140149717353280</title>\n<ellipse fill=\"none\" stroke=\"black\" cx=\"27\" cy=\"-18\" rx=\"27\" ry=\"18\"/>\n<text text-anchor=\"middle\" x=\"27\" y=\"-14.3\" font-family=\"Times,serif\" font-size=\"14.00\">R0</text>\n</g>\n<!-- 140149717360768 -->\n<g id=\"node2\" class=\"node\">\n<title>140149717360768</title>\n<ellipse fill=\"none\" stroke=\"black\" cx=\"43.07\" cy=\"-88.47\" rx=\"27\" ry=\"18\"/>\n<text text-anchor=\"middle\" x=\"43.07\" y=\"-84.77\" font-family=\"Times,serif\" font-size=\"14.00\">R2</text>\n</g>\n<!-- 140149717353280&#45;&#45;140149717360768 -->\n<g id=\"edge1\" class=\"edge\">\n<title>140149717353280&#45;&#45;140149717360768</title>\n<path fill=\"none\" stroke=\"black\" d=\"M31.14,-36.15C33.56,-46.75 36.6,-60.08 39,-70.63\"/>\n</g>\n<!-- 140149717353808 -->\n<g id=\"node3\" class=\"node\">\n<title>140149717353808</title>\n<ellipse fill=\"none\" stroke=\"black\" cx=\"41.47\" cy=\"-160.69\" rx=\"27\" ry=\"18\"/>\n</g>\n<!-- 140149717360768&#45;&#45;140149717353808 -->\n<g id=\"edge2\" class=\"edge\">\n<title>140149717360768&#45;&#45;140149717353808</title>\n<path fill=\"none\" stroke=\"black\" d=\"M42.67,-106.69C42.42,-117.64 42.12,-131.52 41.87,-142.47\"/>\n</g>\n<!-- 140149717353808_1 -->\n<!-- 140149717353808_1&#45;&#45;140149717353808 -->\n<g id=\"edge3\" class=\"edge\">\n<title>140149717353808_1&#45;&#45;140149717353808</title>\n<path fill=\"none\" stroke=\"black\" d=\"M35.11,-214.23C36.39,-203.46 38.01,-189.82 39.29,-179\"/>\n</g>\n</g>\n</svg>\n",
            "text/plain": [
              "<graphviz.graphs.Graph at 0x7f77261ba530>"
            ]
          },
          "metadata": {},
          "execution_count": 11
        }
      ]
    },
    {
      "cell_type": "code",
      "source": [
        "mps_new"
      ],
      "metadata": {
        "colab": {
          "base_uri": "https://localhost:8080/"
        },
        "id": "8kFbOD1LU9Oa",
        "outputId": "f2cb2d02-59d2-4f54-9f8b-7c7e625b63cd"
      },
      "execution_count": 12,
      "outputs": [
        {
          "output_type": "execute_result",
          "data": {
            "text/plain": [
              "[Node\n",
              " (\n",
              " name : 'R0',\n",
              " tensor : \n",
              " <tf.Tensor: shape=(2,), dtype=float32, numpy=array([0.03342018, 0.03454738], dtype=float32)>,\n",
              " edges : \n",
              " [\n",
              " Edge('R0'[0] -> 'R2'[0] )\n",
              " ] \n",
              " ),\n",
              " Node\n",
              " (\n",
              " name : 'R2',\n",
              " tensor : \n",
              " <tf.Tensor: shape=(2, 2), dtype=float32, numpy=\n",
              " array([[ 0.9271973 , -0.03548415],\n",
              "        [-0.00178469,  0.92785716]], dtype=float32)>,\n",
              " edges : \n",
              " [\n",
              " Edge('R0'[0] -> 'R2'[0] )\n",
              " , \n",
              " Edge('R2'[1] -> '__unnamed_node__'[0] )\n",
              " ] \n",
              " ),\n",
              " Node\n",
              " (\n",
              " name : '__unnamed_node__',\n",
              " tensor : \n",
              " <tf.Tensor: shape=(2, 10), dtype=float32, numpy=\n",
              " array([[ 1.2839394e+00,  7.5931982e-03,  2.8952579e-03,  5.8044912e-04,\n",
              "          2.8356710e-03,  8.2246084e-03,  6.2166341e-03, -3.4404960e-03,\n",
              "          9.1226604e-03, -2.3533464e-03],\n",
              "        [ 4.2761415e-03,  1.2850499e+00,  1.4276326e-02, -3.4224615e-04,\n",
              "         -7.1869162e-03,  7.7316277e-03, -5.5719279e-03,  3.6222022e-03,\n",
              "         -3.0911579e-03, -1.9597515e-02]], dtype=float32)>,\n",
              " edges : \n",
              " [\n",
              " Edge('R2'[1] -> '__unnamed_node__'[0] )\n",
              " , \n",
              " Edge(Dangling Edge)[1] \n",
              " ] \n",
              " )]"
            ]
          },
          "metadata": {},
          "execution_count": 12
        }
      ]
    },
    {
      "cell_type": "code",
      "source": [
        "## Now the above two tensors can be contracted and final answer can be obtained"
      ],
      "metadata": {
        "id": "vw76_IVOwzok"
      },
      "execution_count": null,
      "outputs": []
    }
  ]
}