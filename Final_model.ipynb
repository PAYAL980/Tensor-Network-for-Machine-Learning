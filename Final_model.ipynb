{
  "nbformat": 4,
  "nbformat_minor": 0,
  "metadata": {
    "colab": {
      "provenance": [],
      "collapsed_sections": [
        "D1zrFk98oE6B"
      ],
      "authorship_tag": "ABX9TyP7ydYZMh4PcqmktIIleiUf",
      "include_colab_link": true
    },
    "kernelspec": {
      "name": "python3",
      "display_name": "Python 3"
    },
    "language_info": {
      "name": "python"
    }
  },
  "cells": [
    {
      "cell_type": "markdown",
      "metadata": {
        "id": "view-in-github",
        "colab_type": "text"
      },
      "source": [
        "<a href=\"https://colab.research.google.com/github/PAYAL980/Tensor-Network-for-Machine-Learning/blob/main/Final_model.ipynb\" target=\"_parent\"><img src=\"https://colab.research.google.com/assets/colab-badge.svg\" alt=\"Open In Colab\"/></a>"
      ]
    },
    {
      "cell_type": "code",
      "execution_count": 1,
      "metadata": {
        "colab": {
          "base_uri": "https://localhost:8080/"
        },
        "id": "kxjf02VEnIUM",
        "outputId": "99b8e81c-dd99-43b6-f1dc-ce7463902a47"
      },
      "outputs": [
        {
          "output_type": "stream",
          "name": "stdout",
          "text": [
            "Collecting tensornetwork\n",
            "  Downloading tensornetwork-0.4.6-py3-none-any.whl (364 kB)\n",
            "\u001b[?25l     \u001b[90m━━━━━━━━━━━━━━━━━━━━━━━━━━━━━━━━━━━━━━━━\u001b[0m \u001b[32m0.0/364.3 kB\u001b[0m \u001b[31m?\u001b[0m eta \u001b[36m-:--:--\u001b[0m\r\u001b[2K     \u001b[91m━━━━━━━━━━━━━━━━━━━━━━━━━━━━━━━━\u001b[0m\u001b[91m╸\u001b[0m\u001b[90m━━━━━━\u001b[0m \u001b[32m307.2/364.3 kB\u001b[0m \u001b[31m9.3 MB/s\u001b[0m eta \u001b[36m0:00:01\u001b[0m\r\u001b[2K     \u001b[90m━━━━━━━━━━━━━━━━━━━━━━━━━━━━━━━━━━━━━━━\u001b[0m \u001b[32m364.3/364.3 kB\u001b[0m \u001b[31m7.1 MB/s\u001b[0m eta \u001b[36m0:00:00\u001b[0m\n",
            "\u001b[?25hRequirement already satisfied: numpy>=1.17 in /usr/local/lib/python3.10/dist-packages (from tensornetwork) (1.22.4)\n",
            "Requirement already satisfied: graphviz>=0.11.1 in /usr/local/lib/python3.10/dist-packages (from tensornetwork) (0.20.1)\n",
            "Requirement already satisfied: opt-einsum>=2.3.0 in /usr/local/lib/python3.10/dist-packages (from tensornetwork) (3.3.0)\n",
            "Requirement already satisfied: h5py>=2.9.0 in /usr/local/lib/python3.10/dist-packages (from tensornetwork) (3.8.0)\n",
            "Requirement already satisfied: scipy>=1.1 in /usr/local/lib/python3.10/dist-packages (from tensornetwork) (1.10.1)\n",
            "Installing collected packages: tensornetwork\n",
            "Successfully installed tensornetwork-0.4.6\n"
          ]
        }
      ],
      "source": [
        "!pip install tensornetwork"
      ]
    },
    {
      "cell_type": "code",
      "source": [
        "# Importing libraries\n",
        "\n",
        "import numpy as np\n",
        "import matplotlib.pyplot as plt\n",
        "import tensorflow as tf\n",
        "\n",
        "# Import tensornetwork\n",
        "import tensornetwork as tn\n",
        "# Set the backend to tesorflow\n",
        "# (default is numpy)\n",
        "tn.set_default_backend(\"tensorflow\")\n",
        "import time"
      ],
      "metadata": {
        "id": "ngf4dsApnNEJ"
      },
      "execution_count": 2,
      "outputs": []
    },
    {
      "cell_type": "markdown",
      "source": [
        "## Final model\n"
      ],
      "metadata": {
        "id": "K0W5tDmIoLD6"
      }
    },
    {
      "cell_type": "code",
      "source": [
        "## final model\n",
        "\n",
        "class model(tf.keras.layers.Layer):\n",
        "  def __init__(self):\n",
        "    super(model, self).__init__()\n",
        "\n",
        "    self.vars = []\n",
        "    L = 784\n",
        "\n",
        "\n",
        "    # first tensor has only two indices\n",
        "    self.vars.append(tf.Variable(np.float32(np.eye(2,2)+np.random.normal(0,1e-2,size=(2, 2))), trainable=True))\n",
        "\n",
        "        # all middle tensors have 3 indices\n",
        "    for i in range(L-2):\n",
        "      self.vars.append(tf.Variable(np.float32([np.eye(2,2) for iz in range(2)]+np.random.normal(0,1e-2,size=(2,2,2))), trainable=True))\n",
        "\n",
        "        # last tensor will have output, so it will hold 3 indices\n",
        "    self.vars.append(tf.Variable(np.float32([np.eye(2,10) for iz in range(2)]+np.random.normal(0,1e-2,size=(2, 2, 10))), trainable=True))\n",
        "\n",
        "    # bias\n",
        "    self.bias = tf.Variable(tf.zeros(shape=(10)),\n",
        "                          name=\"bias\", trainable=True)\n",
        "\n",
        "  def call(self, inputs):\n",
        "\n",
        "    def f(input_feature_map, vars, bias):\n",
        "\n",
        "      L = 784\n",
        "\n",
        "      # Function to connect the mps\n",
        "\n",
        "      def connect_mps(mps, num_inds):\n",
        "        for iz in range(len(mps)):\n",
        "\n",
        "          if iz==0:\n",
        "            mps[iz][num_inds-2]^mps[iz+1][num_inds-2]\n",
        "\n",
        "          if iz!=0 and iz!=len(mps)-1:\n",
        "            mps[iz][num_inds-1]^mps[iz+1][num_inds-2]\n",
        "\n",
        "        return mps\n",
        "\n",
        "      # Function for contracting the nodes\n",
        "\n",
        "      def contract_data(a,b):\n",
        "        return (a@b).tensor\n",
        "\n",
        "      input_tensors = []\n",
        "      mps = []\n",
        "      cntrct = []\n",
        "\n",
        "      # creating data tensor and mps nodes and connecting to each other\n",
        "      for iz in range(L):\n",
        "        input_tensors.append(tn.Node(input_feature_map[iz], name = f'I{iz}'))\n",
        "        mps.append(tn.Node(vars[iz], name=f'M{iz}'))\n",
        "\n",
        "        input_tensors[iz][0]^mps[iz][0]\n",
        "        cntrct.append(tn.Node(contract_data(input_tensors[iz], mps[iz]), name=f'C{iz}'))\n",
        "\n",
        "      # connecting the mps\n",
        "\n",
        "      mps_new = connect_mps(cntrct, num_inds=2)\n",
        "\n",
        "\n",
        "      # Now let's contract the nodes\n",
        "      while len(mps_new)!=3 and len(mps_new)!=2 :\n",
        "\n",
        "        if len(mps_new)%2==1:\n",
        "          mps_new = [tn.Node(contract_data(mps_new[iz], mps_new[iz+1]), name = f'R{iz}') for iz in range(0, len(mps_new)-1, 2)] + [tn.Node((mps_new[len(mps_new)-1]), name='last')]\n",
        "\n",
        "        else:\n",
        "          mps_new = [tn.Node(contract_data(mps_new[iz], mps_new[iz+1]), name = f'R{iz}') for iz in range(0, len(mps_new)-2, 2)]+[tn.Node((mps_new[len(mps_new)-2])), tn.Node((mps_new[len(mps_new)-1]),name='last')]\n",
        "\n",
        "        mps_new = connect_mps(mps_new, num_inds=2)\n",
        "\n",
        "\n",
        "      if len(mps_new)==2:\n",
        "        mps_final = mps_new[0] @ mps_new[1]\n",
        "\n",
        "      if len(mps_new)==3:\n",
        "        mps_final = mps_new[0] @ mps_new[1]\n",
        "        mps_final = mps_final @ mps_new[2]\n",
        "\n",
        "\n",
        "      d = mps_final.get_tensor() + bias\n",
        "\n",
        "      return d\n",
        "\n",
        "    # To deal with a batch of items, we can use the tf.vectorized_map function\n",
        "\n",
        "    result = tf.vectorized_map(\n",
        "        lambda vec: f(vec, self.vars, self.bias), inputs)\n",
        "\n",
        "    return tf.nn.softmax(result)\n",
        ""
      ],
      "metadata": {
        "id": "J2jBPJ07V7g2"
      },
      "execution_count": 102,
      "outputs": []
    },
    {
      "cell_type": "code",
      "source": [
        "%%time\n",
        "\n",
        "model_1 = tf.keras.Sequential(\n",
        "    [\n",
        "    tf.keras.Input(shape=(784, 2,), batch_size=50),\n",
        "    model(),\n",
        "    ])\n",
        "model_1.summary()"
      ],
      "metadata": {
        "colab": {
          "base_uri": "https://localhost:8080/"
        },
        "id": "Ff1cXUgUZ5NT",
        "outputId": "0980f31c-f9e7-41f5-e706-d70a11fafdb0"
      },
      "execution_count": 103,
      "outputs": [
        {
          "output_type": "stream",
          "name": "stdout",
          "text": [
            "Model: \"sequential_15\"\n",
            "_________________________________________________________________\n",
            " Layer (type)                Output Shape              Param #   \n",
            "=================================================================\n",
            " model_15 (model)            (50, 10)                  6310      \n",
            "                                                                 \n",
            "=================================================================\n",
            "Total params: 6,310\n",
            "Trainable params: 6,310\n",
            "Non-trainable params: 0\n",
            "_________________________________________________________________\n",
            "CPU times: user 28.3 s, sys: 139 ms, total: 28.4 s\n",
            "Wall time: 28.6 s\n"
          ]
        }
      ]
    },
    {
      "cell_type": "code",
      "source": [],
      "metadata": {
        "id": "uXcaifjOaEKE"
      },
      "execution_count": null,
      "outputs": []
    }
  ]
}